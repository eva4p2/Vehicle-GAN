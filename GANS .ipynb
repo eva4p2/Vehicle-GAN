{
  "nbformat": 4,
  "nbformat_minor": 0,
  "metadata": {
    "kernelspec": {
      "display_name": "Python 3",
      "language": "python",
      "name": "python3"
    },
    "language_info": {
      "codemirror_mode": {
        "name": "ipython",
        "version": 3
      },
      "file_extension": ".py",
      "mimetype": "text/x-python",
      "name": "python",
      "nbconvert_exporter": "python",
      "pygments_lexer": "ipython3",
      "version": "3.7.2"
    },
    "colab": {
      "name": "DreamCars_GANS.ipynb",
      "provenance": [],
      "collapsed_sections": [],
      "toc_visible": true
    },
    "accelerator": "GPU"
  },
  "cells": [
    {
      "cell_type": "code",
      "metadata": {
        "id": "XaDH6gaORh3t",
        "colab_type": "code",
        "colab": {
          "base_uri": "https://localhost:8080/",
          "height": 35
        },
        "outputId": "a7047a00-8e7d-40e1-911c-a1788775d104"
      },
      "source": [
        "from google.colab import drive\n",
        "drive.mount('/content/drive')"
      ],
      "execution_count": 1,
      "outputs": [
        {
          "output_type": "stream",
          "text": [
            "Mounted at /content/drive\n"
          ],
          "name": "stdout"
        }
      ]
    },
    {
      "cell_type": "markdown",
      "metadata": {
        "id": "n2da5Ls9ecFM",
        "colab_type": "text"
      },
      "source": [
        "##Copy the zip file and unzip locally into memory"
      ]
    },
    {
      "cell_type": "code",
      "metadata": {
        "id": "YmscvIwnehMM",
        "colab_type": "code",
        "colab": {}
      },
      "source": [
        "!cp /content/drive/My\\ Drive/GANS/cars_dataset.zip cars_dataset.zip"
      ],
      "execution_count": 2,
      "outputs": []
    },
    {
      "cell_type": "code",
      "metadata": {
        "id": "BYfnwKxDetlg",
        "colab_type": "code",
        "colab": {
          "base_uri": "https://localhost:8080/",
          "height": 1000
        },
        "outputId": "1e3e2893-fa06-420a-9302-6ad15501f797"
      },
      "source": [
        "!unzip cars_dataset.zip "
      ],
      "execution_count": 3,
      "outputs": [
        {
          "output_type": "stream",
          "text": [
            "Archive:  cars_dataset.zip\n",
            "   creating: cars_dataset/\n",
            "  inflating: cars_dataset/acura_PNG100.png  \n",
            "  inflating: cars_dataset/acura_PNG109.png  \n",
            "  inflating: cars_dataset/acura_PNG111.png  \n",
            "  inflating: cars_dataset/acura_PNG112.png  \n",
            "  inflating: cars_dataset/acura_PNG113.png  \n",
            "  inflating: cars_dataset/acura_PNG115.png  \n",
            "  inflating: cars_dataset/acura_PNG117.png  \n",
            "  inflating: cars_dataset/acura_PNG118.png  \n",
            "  inflating: cars_dataset/acura_PNG119.png  \n",
            "  inflating: cars_dataset/acura_PNG120.png  \n",
            "  inflating: cars_dataset/acura_PNG122.png  \n",
            "  inflating: cars_dataset/acura_PNG123.png  \n",
            "  inflating: cars_dataset/acura_PNG126.png  \n",
            "  inflating: cars_dataset/acura_PNG129.png  \n",
            "  inflating: cars_dataset/acura_PNG13.png  \n",
            "  inflating: cars_dataset/acura_PNG130.png  \n",
            "  inflating: cars_dataset/acura_PNG15.png  \n",
            "  inflating: cars_dataset/acura_PNG2.png  \n",
            "  inflating: cars_dataset/acura_PNG3.png  \n",
            "  inflating: cars_dataset/acura_PNG32.png  \n",
            "  inflating: cars_dataset/acura_PNG33.png  \n",
            "  inflating: cars_dataset/acura_PNG36.png  \n",
            "  inflating: cars_dataset/acura_PNG37.png  \n",
            "  inflating: cars_dataset/acura_PNG38.png  \n",
            "  inflating: cars_dataset/acura_PNG39.png  \n",
            "  inflating: cars_dataset/acura_PNG40.png  \n",
            "  inflating: cars_dataset/acura_PNG42.png  \n",
            "  inflating: cars_dataset/acura_PNG43.png  \n",
            "  inflating: cars_dataset/acura_PNG44.png  \n",
            "  inflating: cars_dataset/acura_PNG46.png  \n",
            " extracting: cars_dataset/acura_PNG47.png  \n",
            "  inflating: cars_dataset/acura_PNG48.png  \n",
            "  inflating: cars_dataset/acura_PNG5.png  \n",
            "  inflating: cars_dataset/acura_PNG51.png  \n",
            "  inflating: cars_dataset/acura_PNG52.png  \n",
            " extracting: cars_dataset/acura_PNG53.png  \n",
            "  inflating: cars_dataset/acura_PNG54.png  \n",
            " extracting: cars_dataset/acura_PNG55.png  \n",
            "  inflating: cars_dataset/acura_PNG56.png  \n",
            " extracting: cars_dataset/acura_PNG57.png  \n",
            "  inflating: cars_dataset/acura_PNG58.png  \n",
            "  inflating: cars_dataset/acura_PNG59.png  \n",
            "  inflating: cars_dataset/acura_PNG63.png  \n",
            "  inflating: cars_dataset/acura_PNG66.png  \n",
            "  inflating: cars_dataset/acura_PNG79.png  \n",
            "  inflating: cars_dataset/acura_PNG8.png  \n",
            "  inflating: cars_dataset/acura_PNG82.png  \n",
            "  inflating: cars_dataset/acura_PNG84.png  \n",
            "  inflating: cars_dataset/acura_PNG85.png  \n",
            "  inflating: cars_dataset/acura_PNG87.png  \n",
            "  inflating: cars_dataset/acura_PNG88.png  \n",
            "  inflating: cars_dataset/acura_PNG89.png  \n",
            "  inflating: cars_dataset/acura_PNG9.png  \n",
            "  inflating: cars_dataset/acura_PNG96.png  \n",
            "  inflating: cars_dataset/alfa_romeo_PNG75.png  \n",
            "  inflating: cars_dataset/ambulance_PNG20.png  \n",
            "  inflating: cars_dataset/audi_PNG1720.png  \n",
            "  inflating: cars_dataset/audi_PNG1721.png  \n",
            "  inflating: cars_dataset/audi_PNG1722.png  \n",
            "  inflating: cars_dataset/audi_PNG1731.png  \n",
            "  inflating: cars_dataset/audi_PNG1733.png  \n",
            "  inflating: cars_dataset/audi_PNG1736.png  \n",
            "  inflating: cars_dataset/audi_PNG1740.png  \n",
            "  inflating: cars_dataset/audi_PNG1741.png  \n",
            "  inflating: cars_dataset/audi_PNG1743.png  \n",
            "  inflating: cars_dataset/audi_PNG1745.png  \n",
            "  inflating: cars_dataset/audi_PNG1746.png  \n",
            "  inflating: cars_dataset/audi_PNG1749.png  \n",
            "  inflating: cars_dataset/audi_PNG1751.png  \n",
            "  inflating: cars_dataset/audi_PNG1752.png  \n",
            "  inflating: cars_dataset/audi_PNG1753.png  \n",
            "  inflating: cars_dataset/audi_PNG1754.png  \n",
            "  inflating: cars_dataset/audi_PNG1755.png  \n",
            "  inflating: cars_dataset/audi_PNG1757.png  \n",
            "  inflating: cars_dataset/audi_PNG1758.png  \n",
            "  inflating: cars_dataset/audi_PNG1760.png  \n",
            "  inflating: cars_dataset/audi_PNG1761.png  \n",
            "  inflating: cars_dataset/audi_PNG1762.png  \n",
            "  inflating: cars_dataset/audi_PNG1766.png  \n",
            "  inflating: cars_dataset/audi_PNG1770 (1).png  \n",
            "  inflating: cars_dataset/audi_PNG1770.png  \n",
            "  inflating: cars_dataset/audi_PNG1771.png  \n",
            "  inflating: cars_dataset/bentley_PNG1.png  \n",
            "  inflating: cars_dataset/bentley_PNG11.png  \n",
            "  inflating: cars_dataset/bentley_PNG12.png  \n",
            "  inflating: cars_dataset/bentley_PNG13.png  \n",
            "  inflating: cars_dataset/bentley_PNG14.png  \n",
            "  inflating: cars_dataset/bentley_PNG15.png  \n",
            "  inflating: cars_dataset/bentley_PNG16.png  \n",
            "  inflating: cars_dataset/bentley_PNG28.png  \n",
            "  inflating: cars_dataset/bentley_PNG3.png  \n",
            "  inflating: cars_dataset/bentley_PNG30.png  \n",
            "  inflating: cars_dataset/bentley_PNG31.png  \n",
            "  inflating: cars_dataset/bentley_PNG40.png  \n",
            "  inflating: cars_dataset/bentley_PNG45.png  \n",
            "  inflating: cars_dataset/bentley_PNG47.png  \n",
            "  inflating: cars_dataset/bentley_PNG48.png  \n",
            "  inflating: cars_dataset/bentley_PNG49.png  \n",
            "  inflating: cars_dataset/bentley_PNG50.png  \n",
            "  inflating: cars_dataset/bentley_PNG52.png  \n",
            "  inflating: cars_dataset/bentley_PNG53.png  \n",
            "  inflating: cars_dataset/bentley_PNG55.png  \n",
            "  inflating: cars_dataset/bentley_PNG58.png  \n",
            "  inflating: cars_dataset/bentley_PNG59.png  \n",
            "  inflating: cars_dataset/bentley_PNG60.png  \n",
            "  inflating: cars_dataset/bentley_PNG61.png  \n",
            "  inflating: cars_dataset/bentley_PNG62.png  \n",
            "  inflating: cars_dataset/bentley_PNG63.png  \n",
            "  inflating: cars_dataset/bentley_PNG64.png  \n",
            "  inflating: cars_dataset/bentley_PNG65.png  \n",
            "  inflating: cars_dataset/bentley_PNG66.png  \n",
            "  inflating: cars_dataset/bentley_PNG9.png  \n",
            "  inflating: cars_dataset/bmw_PNG1670.png  \n",
            "  inflating: cars_dataset/bmw_PNG1678.png  \n",
            "  inflating: cars_dataset/bmw_PNG1689.png  \n",
            "  inflating: cars_dataset/bmw_PNG1690.png  \n",
            "  inflating: cars_dataset/bmw_PNG1691.png  \n",
            "  inflating: cars_dataset/bmw_PNG1692.png  \n",
            "  inflating: cars_dataset/bmw_PNG1693.png  \n",
            "  inflating: cars_dataset/bmw_PNG1694.png  \n",
            "  inflating: cars_dataset/bmw_PNG1695.png  \n",
            "  inflating: cars_dataset/bmw_PNG1696.png  \n",
            "  inflating: cars_dataset/bmw_PNG1697.png  \n",
            "  inflating: cars_dataset/bmw_PNG1698.png  \n",
            "  inflating: cars_dataset/bmw_PNG1699.png  \n",
            "  inflating: cars_dataset/bmw_PNG1700.png  \n",
            "  inflating: cars_dataset/bmw_PNG1701.png  \n",
            "  inflating: cars_dataset/bmw_PNG1702.png  \n",
            "  inflating: cars_dataset/bmw_PNG1703.png  \n",
            "  inflating: cars_dataset/bmw_PNG1705.png  \n",
            "  inflating: cars_dataset/bmw_PNG1706.png  \n",
            "  inflating: cars_dataset/bmw_PNG1707.png  \n",
            "  inflating: cars_dataset/bmw_PNG1708.png  \n",
            "  inflating: cars_dataset/bmw_PNG1709.png  \n",
            "  inflating: cars_dataset/bmw_PNG1710.png  \n",
            "  inflating: cars_dataset/bmw_PNG1711.png  \n",
            "  inflating: cars_dataset/bugatti_PNG1.png  \n",
            "  inflating: cars_dataset/bugatti_PNG13.png  \n",
            " extracting: cars_dataset/bugatti_PNG14.png  \n",
            "  inflating: cars_dataset/bugatti_PNG17.png  \n",
            "  inflating: cars_dataset/bugatti_PNG20.png  \n",
            "  inflating: cars_dataset/bugatti_PNG21.png  \n",
            "  inflating: cars_dataset/bugatti_PNG23.png  \n",
            "  inflating: cars_dataset/bugatti_PNG24.png  \n",
            "  inflating: cars_dataset/bugatti_PNG29.png  \n",
            "  inflating: cars_dataset/bugatti_PNG35.png  \n",
            "  inflating: cars_dataset/bugatti_PNG4.png  \n",
            "  inflating: cars_dataset/cadillac_PNG1.png  \n",
            "  inflating: cars_dataset/cadillac_PNG11.png  \n",
            "  inflating: cars_dataset/cadillac_PNG12.png  \n",
            "  inflating: cars_dataset/cadillac_PNG14.png  \n",
            "  inflating: cars_dataset/cadillac_PNG15.png  \n",
            "  inflating: cars_dataset/cadillac_PNG16.png  \n",
            "  inflating: cars_dataset/cadillac_PNG17.png  \n",
            "  inflating: cars_dataset/cadillac_PNG2.png  \n",
            "  inflating: cars_dataset/cadillac_PNG23.png  \n",
            "  inflating: cars_dataset/cadillac_PNG24.png  \n",
            "  inflating: cars_dataset/cadillac_PNG25.png  \n",
            "  inflating: cars_dataset/cadillac_PNG28.png  \n",
            "  inflating: cars_dataset/cadillac_PNG30.png  \n",
            "  inflating: cars_dataset/cadillac_PNG31.png  \n",
            "  inflating: cars_dataset/cadillac_PNG36.png  \n",
            "  inflating: cars_dataset/cadillac_PNG39.png  \n",
            "  inflating: cars_dataset/cadillac_PNG41.png  \n",
            " extracting: cars_dataset/cadillac_PNG43.png  \n",
            " extracting: cars_dataset/cadillac_PNG44.png  \n",
            "  inflating: cars_dataset/cadillac_PNG45.png  \n",
            " extracting: cars_dataset/cadillac_PNG46.png  \n",
            "  inflating: cars_dataset/cadillac_PNG48.png  \n",
            "  inflating: cars_dataset/cadillac_PNG49.png  \n",
            "  inflating: cars_dataset/cadillac_PNG50.png  \n",
            "  inflating: cars_dataset/cadillac_PNG51.png  \n",
            "  inflating: cars_dataset/cadillac_PNG55.png  \n",
            "  inflating: cars_dataset/cadillac_PNG56.png  \n",
            "  inflating: cars_dataset/cadillac_PNG57.png  \n",
            "  inflating: cars_dataset/cadillac_PNG58.png  \n",
            "  inflating: cars_dataset/cadillac_PNG6.png  \n",
            "  inflating: cars_dataset/cadillac_PNG60.png  \n",
            "  inflating: cars_dataset/cadillac_PNG61.png  \n",
            "  inflating: cars_dataset/cadillac_PNG63.png  \n",
            "  inflating: cars_dataset/cadillac_PNG68.png  \n",
            "  inflating: cars_dataset/cadillac_PNG69.png  \n",
            "  inflating: cars_dataset/cadillac_PNG71.png  \n",
            "  inflating: cars_dataset/cadillac_PNG72.png  \n",
            "  inflating: cars_dataset/cadillac_PNG74.png  \n",
            "  inflating: cars_dataset/cadillac_PNG75.png  \n",
            "  inflating: cars_dataset/cadillac_PNG76.png  \n",
            "  inflating: cars_dataset/cadillac_PNG8.png  \n",
            "  inflating: cars_dataset/cadillac_PNG9.png  \n",
            "  inflating: cars_dataset/caravan_PNG95.png  \n",
            "  inflating: cars_dataset/chrysler_PNG10.png  \n",
            "  inflating: cars_dataset/chrysler_PNG12.png  \n",
            "  inflating: cars_dataset/chrysler_PNG15.png  \n",
            "  inflating: cars_dataset/chrysler_PNG16.png  \n",
            "  inflating: cars_dataset/chrysler_PNG17.png  \n",
            "  inflating: cars_dataset/chrysler_PNG20.png  \n",
            "  inflating: cars_dataset/chrysler_PNG26.png  \n",
            "  inflating: cars_dataset/chrysler_PNG27.png  \n",
            "  inflating: cars_dataset/chrysler_PNG29.png  \n",
            "  inflating: cars_dataset/chrysler_PNG30.png  \n",
            "  inflating: cars_dataset/chrysler_PNG31.png  \n",
            " extracting: cars_dataset/chrysler_PNG32.png  \n",
            "  inflating: cars_dataset/chrysler_PNG34.png  \n",
            "  inflating: cars_dataset/chrysler_PNG35.png  \n",
            "  inflating: cars_dataset/chrysler_PNG4.png  \n",
            "  inflating: cars_dataset/chrysler_PNG43.png  \n",
            "  inflating: cars_dataset/chrysler_PNG45.png  \n",
            "  inflating: cars_dataset/chrysler_PNG48.png  \n",
            "  inflating: cars_dataset/chrysler_PNG5.png  \n",
            "  inflating: cars_dataset/chrysler_PNG54.png  \n",
            "  inflating: cars_dataset/chrysler_PNG55.png  \n",
            "  inflating: cars_dataset/chrysler_PNG56 (1).png  \n",
            "  inflating: cars_dataset/chrysler_PNG56.png  \n",
            "  inflating: cars_dataset/chrysler_PNG6.png  \n",
            "  inflating: cars_dataset/chrysler_PNG9.png  \n",
            "  inflating: cars_dataset/dodge_PNG10.png  \n",
            "  inflating: cars_dataset/dodge_PNG100.png  \n",
            " extracting: cars_dataset/dodge_PNG101.png  \n",
            "  inflating: cars_dataset/dodge_PNG102.png  \n",
            "  inflating: cars_dataset/dodge_PNG103.png  \n",
            "  inflating: cars_dataset/dodge_PNG104.png  \n",
            "  inflating: cars_dataset/dodge_PNG105.png  \n",
            "  inflating: cars_dataset/dodge_PNG107.png  \n",
            "  inflating: cars_dataset/dodge_PNG108.png  \n",
            "  inflating: cars_dataset/dodge_PNG109 (1).png  \n",
            "  inflating: cars_dataset/dodge_PNG109.png  \n",
            "  inflating: cars_dataset/dodge_PNG11.png  \n",
            "  inflating: cars_dataset/dodge_PNG110.png  \n",
            "  inflating: cars_dataset/dodge_PNG112.png  \n",
            "  inflating: cars_dataset/dodge_PNG113.png  \n",
            "  inflating: cars_dataset/dodge_PNG114.png  \n",
            "  inflating: cars_dataset/dodge_PNG115.png  \n",
            "  inflating: cars_dataset/dodge_PNG116.png  \n",
            "  inflating: cars_dataset/dodge_PNG117.png  \n",
            "  inflating: cars_dataset/dodge_PNG12.png  \n",
            "  inflating: cars_dataset/dodge_PNG13 (1).png  \n",
            "  inflating: cars_dataset/dodge_PNG13.png  \n",
            "  inflating: cars_dataset/dodge_PNG14.png  \n",
            "  inflating: cars_dataset/dodge_PNG15 (1).png  \n",
            "  inflating: cars_dataset/dodge_PNG15.png  \n",
            "  inflating: cars_dataset/dodge_PNG16.png  \n",
            " extracting: cars_dataset/dodge_PNG17.png  \n",
            "  inflating: cars_dataset/dodge_PNG18.png  \n",
            " extracting: cars_dataset/dodge_PNG20.png  \n",
            "  inflating: cars_dataset/dodge_PNG26.png  \n",
            "  inflating: cars_dataset/dodge_PNG32.png  \n",
            "  inflating: cars_dataset/dodge_PNG33.png  \n",
            "  inflating: cars_dataset/dodge_PNG34.png  \n",
            "  inflating: cars_dataset/dodge_PNG35.png  \n",
            "  inflating: cars_dataset/dodge_PNG41.png  \n",
            "  inflating: cars_dataset/dodge_PNG42.png  \n",
            "  inflating: cars_dataset/dodge_PNG43.png  \n",
            "  inflating: cars_dataset/dodge_PNG44.png  \n",
            "  inflating: cars_dataset/dodge_PNG45.png  \n",
            "  inflating: cars_dataset/dodge_PNG48.png  \n",
            "  inflating: cars_dataset/dodge_PNG49.png  \n",
            "  inflating: cars_dataset/dodge_PNG5.png  \n",
            "  inflating: cars_dataset/dodge_PNG50.png  \n",
            "  inflating: cars_dataset/dodge_PNG55.png  \n",
            "  inflating: cars_dataset/dodge_PNG56.png  \n",
            "  inflating: cars_dataset/dodge_PNG57.png  \n",
            "  inflating: cars_dataset/dodge_PNG6.png  \n",
            "  inflating: cars_dataset/dodge_PNG61.png  \n",
            "  inflating: cars_dataset/dodge_PNG65.png  \n",
            "  inflating: cars_dataset/dodge_PNG66.png  \n",
            "  inflating: cars_dataset/dodge_PNG67.png  \n",
            "  inflating: cars_dataset/dodge_PNG7.png  \n",
            " extracting: cars_dataset/dodge_PNG70.png  \n",
            " extracting: cars_dataset/dodge_PNG71.png  \n",
            " extracting: cars_dataset/dodge_PNG72.png  \n",
            "  inflating: cars_dataset/dodge_PNG73.png  \n",
            "  inflating: cars_dataset/dodge_PNG74.png  \n",
            "  inflating: cars_dataset/dodge_PNG75.png  \n",
            "  inflating: cars_dataset/dodge_PNG77.png  \n",
            "  inflating: cars_dataset/dodge_PNG78.png  \n",
            "  inflating: cars_dataset/dodge_PNG79.png  \n",
            "  inflating: cars_dataset/dodge_PNG8.png  \n",
            "  inflating: cars_dataset/dodge_PNG80.png  \n",
            "  inflating: cars_dataset/dodge_PNG81.png  \n",
            "  inflating: cars_dataset/dodge_PNG82.png  \n",
            "  inflating: cars_dataset/dodge_PNG83.png  \n",
            "  inflating: cars_dataset/dodge_PNG87.png  \n",
            "  inflating: cars_dataset/dodge_PNG9.png  \n",
            "  inflating: cars_dataset/dodge_PNG91.png  \n",
            "  inflating: cars_dataset/dodge_PNG94.png  \n",
            "  inflating: cars_dataset/dodge_PNG97.png  \n",
            "  inflating: cars_dataset/dodge_PNG99.png  \n",
            " extracting: cars_dataset/ferrari_PNG10631.png  \n",
            "  inflating: cars_dataset/ferrari_PNG10632.png  \n",
            "  inflating: cars_dataset/ferrari_PNG10633.png  \n",
            "  inflating: cars_dataset/ferrari_PNG10636.png  \n",
            "  inflating: cars_dataset/ferrari_PNG10642.png  \n",
            " extracting: cars_dataset/ferrari_PNG10644.png  \n",
            "  inflating: cars_dataset/ferrari_PNG10646.png  \n",
            "  inflating: cars_dataset/ferrari_PNG10647.png  \n",
            "  inflating: cars_dataset/ferrari_PNG10649.png  \n",
            "  inflating: cars_dataset/ferrari_PNG10650.png  \n",
            "  inflating: cars_dataset/ferrari_PNG10651.png  \n",
            " extracting: cars_dataset/ferrari_PNG10655.png  \n",
            "  inflating: cars_dataset/ferrari_PNG10657.png  \n",
            "  inflating: cars_dataset/ferrari_PNG10659.png  \n",
            "  inflating: cars_dataset/ferrari_PNG10664.png  \n",
            "  inflating: cars_dataset/ferrari_PNG10667.png  \n",
            "  inflating: cars_dataset/ferrari_PNG10671.png  \n",
            "  inflating: cars_dataset/ferrari_PNG10679.png  \n",
            "  inflating: cars_dataset/ford_PNG12241.png  \n",
            "  inflating: cars_dataset/honda_PNG10324.png  \n",
            "  inflating: cars_dataset/honda_PNG10325.png  \n",
            "  inflating: cars_dataset/honda_PNG10327.png  \n",
            "  inflating: cars_dataset/honda_PNG10328.png  \n",
            "  inflating: cars_dataset/honda_PNG10330.png  \n",
            "  inflating: cars_dataset/honda_PNG10331.png  \n",
            "  inflating: cars_dataset/honda_PNG10332.png  \n",
            "  inflating: cars_dataset/honda_PNG10335.png  \n",
            "  inflating: cars_dataset/honda_PNG10337.png  \n",
            "  inflating: cars_dataset/honda_PNG10338.png  \n",
            "  inflating: cars_dataset/honda_PNG10342.png  \n",
            " extracting: cars_dataset/honda_PNG10343.png  \n",
            "  inflating: cars_dataset/honda_PNG10344.png  \n",
            "  inflating: cars_dataset/honda_PNG10346.png  \n",
            "  inflating: cars_dataset/honda_PNG10347.png  \n",
            "  inflating: cars_dataset/honda_PNG10348.png  \n",
            "  inflating: cars_dataset/honda_PNG10349.png  \n",
            "  inflating: cars_dataset/honda_PNG10350.png  \n",
            "  inflating: cars_dataset/honda_PNG10351.png  \n",
            "  inflating: cars_dataset/honda_PNG10352.png  \n",
            "  inflating: cars_dataset/honda_PNG10354.png  \n",
            "  inflating: cars_dataset/honda_PNG10355.png  \n",
            "  inflating: cars_dataset/honda_PNG10357.png  \n",
            "  inflating: cars_dataset/honda_PNG10359.png  \n",
            "  inflating: cars_dataset/hyundai_PNG11202.png  \n",
            "  inflating: cars_dataset/hyundai_PNG11203.png  \n",
            "  inflating: cars_dataset/hyundai_PNG11204.png  \n",
            "  inflating: cars_dataset/hyundai_PNG11205.png  \n",
            "  inflating: cars_dataset/hyundai_PNG11210.png  \n",
            "  inflating: cars_dataset/hyundai_PNG11211.png  \n",
            "  inflating: cars_dataset/hyundai_PNG11212.png  \n",
            "  inflating: cars_dataset/hyundai_PNG11214.png  \n",
            " extracting: cars_dataset/hyundai_PNG11215.png  \n",
            "  inflating: cars_dataset/hyundai_PNG11216.png  \n",
            "  inflating: cars_dataset/hyundai_PNG11217.png  \n",
            "  inflating: cars_dataset/hyundai_PNG11224.png  \n",
            "  inflating: cars_dataset/hyundai_PNG11225.png  \n",
            "  inflating: cars_dataset/hyundai_PNG11226.png  \n",
            "  inflating: cars_dataset/hyundai_PNG11227.png  \n",
            "  inflating: cars_dataset/hyundai_PNG11228.png  \n",
            "  inflating: cars_dataset/hyundai_PNG11229.png  \n",
            "  inflating: cars_dataset/hyundai_PNG11232.png  \n",
            "  inflating: cars_dataset/hyundai_PNG11234.png  \n",
            "  inflating: cars_dataset/hyundai_PNG11235.png  \n",
            "  inflating: cars_dataset/hyundai_PNG11237.png  \n",
            "  inflating: cars_dataset/hyundai_PNG11239.png  \n",
            "  inflating: cars_dataset/hyundai_PNG11241.png  \n",
            "  inflating: cars_dataset/hyundai_PNG11243.png  \n",
            "  inflating: cars_dataset/infiniti_PNG1.png  \n",
            "  inflating: cars_dataset/infiniti_PNG10.png  \n",
            "  inflating: cars_dataset/infiniti_PNG11.png  \n",
            "  inflating: cars_dataset/infiniti_PNG12.png  \n",
            "  inflating: cars_dataset/infiniti_PNG13.png  \n",
            "  inflating: cars_dataset/infiniti_PNG15.png  \n",
            "  inflating: cars_dataset/infiniti_PNG16.png  \n",
            "  inflating: cars_dataset/infiniti_PNG19.png  \n",
            "  inflating: cars_dataset/infiniti_PNG2.png  \n",
            "  inflating: cars_dataset/infiniti_PNG24.png  \n",
            "  inflating: cars_dataset/infiniti_PNG26.png  \n",
            "  inflating: cars_dataset/infiniti_PNG27.png  \n",
            "  inflating: cars_dataset/infiniti_PNG29.png  \n",
            "  inflating: cars_dataset/infiniti_PNG31.png  \n",
            "  inflating: cars_dataset/infiniti_PNG34.png  \n",
            "  inflating: cars_dataset/infiniti_PNG35.png  \n",
            "  inflating: cars_dataset/infiniti_PNG39.png  \n",
            "  inflating: cars_dataset/infiniti_PNG4.png  \n",
            "  inflating: cars_dataset/infiniti_PNG40.png  \n",
            "  inflating: cars_dataset/infiniti_PNG41.png  \n",
            "  inflating: cars_dataset/infiniti_PNG42.png  \n",
            "  inflating: cars_dataset/infiniti_PNG46.png  \n",
            "  inflating: cars_dataset/infiniti_PNG48.png  \n",
            "  inflating: cars_dataset/infiniti_PNG49.png  \n",
            "  inflating: cars_dataset/infiniti_PNG5.png  \n",
            "  inflating: cars_dataset/infiniti_PNG50.png  \n",
            "  inflating: cars_dataset/infiniti_PNG51.png  \n",
            "  inflating: cars_dataset/infiniti_PNG7.png  \n",
            "  inflating: cars_dataset/jeep_PNG146.png  \n",
            "  inflating: cars_dataset/lada_PNG142.png  \n",
            "  inflating: cars_dataset/lotus_PNG39.png  \n",
            " extracting: cars_dataset/maserati_PNG94.png  \n",
            " extracting: cars_dataset/mazda_PNG129.png  \n",
            "  inflating: cars_dataset/Mclaren_PNG80.png  \n",
            "  inflating: cars_dataset/mercedes_PNG1840.png  \n",
            "  inflating: cars_dataset/mitsubishi_PNG189.png  \n",
            "  inflating: cars_dataset/mustang_PNG1.png  \n",
            "  inflating: cars_dataset/mustang_PNG10.png  \n",
            "  inflating: cars_dataset/mustang_PNG11.png  \n",
            "  inflating: cars_dataset/mustang_PNG12.png  \n",
            "  inflating: cars_dataset/mustang_PNG13.png  \n",
            "  inflating: cars_dataset/mustang_PNG15.png  \n",
            "  inflating: cars_dataset/mustang_PNG17.png  \n",
            "  inflating: cars_dataset/mustang_PNG2.png  \n",
            "  inflating: cars_dataset/mustang_PNG20.png  \n",
            "  inflating: cars_dataset/mustang_PNG21.png  \n",
            "  inflating: cars_dataset/mustang_PNG26.png  \n",
            "  inflating: cars_dataset/mustang_PNG27.png  \n",
            "  inflating: cars_dataset/mustang_PNG3.png  \n",
            "  inflating: cars_dataset/mustang_PNG30.png  \n",
            "  inflating: cars_dataset/mustang_PNG31.png  \n",
            "  inflating: cars_dataset/mustang_PNG36.png  \n",
            "  inflating: cars_dataset/mustang_PNG39.png  \n",
            "  inflating: cars_dataset/mustang_PNG4.png  \n",
            "  inflating: cars_dataset/mustang_PNG40652.png  \n",
            "  inflating: cars_dataset/mustang_PNG40653.png  \n",
            "  inflating: cars_dataset/mustang_PNG41.png  \n",
            "  inflating: cars_dataset/mustang_PNG43.png  \n",
            "  inflating: cars_dataset/mustang_PNG44.png  \n",
            "  inflating: cars_dataset/mustang_PNG46.png  \n",
            "  inflating: cars_dataset/mustang_PNG5.png  \n",
            "  inflating: cars_dataset/mustang_PNG53.png  \n",
            "  inflating: cars_dataset/mustang_PNG56.png  \n",
            "  inflating: cars_dataset/mustang_PNG57.png  \n",
            "  inflating: cars_dataset/mustang_PNG59.png  \n",
            "  inflating: cars_dataset/mustang_PNG60.png  \n",
            "  inflating: cars_dataset/mustang_PNG62.png  \n",
            "  inflating: cars_dataset/mustang_PNG65.png  \n",
            "  inflating: cars_dataset/mustang_PNG66.png  \n",
            "  inflating: cars_dataset/mustang_PNG8 (1).png  \n",
            "  inflating: cars_dataset/mustang_PNG8.png  \n",
            "  inflating: cars_dataset/nissan_PNG91.png  \n",
            "  inflating: cars_dataset/niva_PNG72.png  \n",
            "  inflating: cars_dataset/peugeot_PNG34656.png  \n",
            "  inflating: cars_dataset/police_car_PNG10.png  \n",
            "  inflating: cars_dataset/porsche_PNG10608.png  \n",
            " extracting: cars_dataset/renault_PNG76.png  \n",
            "  inflating: cars_dataset/seat_PNG11825.png  \n",
            "  inflating: cars_dataset/taxi_PNG73.png  \n",
            "  inflating: cars_dataset/tesla_car_PNG24.png  \n",
            " extracting: cars_dataset/toyota_PNG1913.png  \n",
            "  inflating: cars_dataset/toyota_PNG1915.png  \n",
            "  inflating: cars_dataset/toyota_PNG1917.png  \n",
            "  inflating: cars_dataset/toyota_PNG1918.png  \n",
            "  inflating: cars_dataset/toyota_PNG1919.png  \n",
            "  inflating: cars_dataset/toyota_PNG1920.png  \n",
            "  inflating: cars_dataset/toyota_PNG1921.png  \n",
            "  inflating: cars_dataset/toyota_PNG1922.png  \n",
            "  inflating: cars_dataset/toyota_PNG1923.png  \n",
            "  inflating: cars_dataset/toyota_PNG1928.png  \n",
            "  inflating: cars_dataset/toyota_PNG1929.png  \n",
            "  inflating: cars_dataset/toyota_PNG1930.png  \n",
            "  inflating: cars_dataset/toyota_PNG1931.png  \n",
            "  inflating: cars_dataset/toyota_PNG1932.png  \n",
            "  inflating: cars_dataset/toyota_PNG1933.png  \n",
            "  inflating: cars_dataset/toyota_PNG1934.png  \n",
            "  inflating: cars_dataset/toyota_PNG1935.png  \n",
            "  inflating: cars_dataset/toyota_PNG1936.png  \n",
            "  inflating: cars_dataset/toyota_PNG1937.png  \n",
            "  inflating: cars_dataset/toyota_PNG1938.png  \n",
            "  inflating: cars_dataset/toyota_PNG1939.png  \n",
            "  inflating: cars_dataset/toyota_PNG1943.png  \n",
            "  inflating: cars_dataset/toyota_PNG1945.png  \n",
            "  inflating: cars_dataset/toyota_PNG1946.png  \n",
            "  inflating: cars_dataset/toyota_PNG1948.png  \n",
            "  inflating: cars_dataset/toyota_PNG1950.png  \n",
            "  inflating: cars_dataset/toyota_PNG1951 (1).png  \n",
            "  inflating: cars_dataset/toyota_PNG1951.png  \n",
            "  inflating: cars_dataset/toyota_PNG1952.png  \n",
            "  inflating: cars_dataset/toyota_PNG1953.png  \n",
            "  inflating: cars_dataset/toyota_PNG1954.png  \n",
            "  inflating: cars_dataset/toyota_PNG1955 (1).png  \n",
            "  inflating: cars_dataset/toyota_PNG1955.png  \n",
            "  inflating: cars_dataset/toyota_PNG1956.png  \n",
            "  inflating: cars_dataset/truck_PNG16264.png  \n",
            "  inflating: cars_dataset/uaz_PNG74.png  \n",
            "  inflating: cars_dataset/volkswagen_PNG1801.png  \n",
            "cars_dataset/сhevrolet_PNG101.png:  mismatching \"local\" filename (cars_dataset/╤Бhevrolet_PNG101.png),\n",
            "         continuing with \"central\" filename version\n",
            "  inflating: cars_dataset/сhevrolet_PNG101.png  \n",
            "cars_dataset/сhevrolet_PNG105.png:  mismatching \"local\" filename (cars_dataset/╤Бhevrolet_PNG105.png),\n",
            "         continuing with \"central\" filename version\n",
            "  inflating: cars_dataset/сhevrolet_PNG105.png  \n",
            "cars_dataset/сhevrolet_PNG123.png:  mismatching \"local\" filename (cars_dataset/╤Бhevrolet_PNG123.png),\n",
            "         continuing with \"central\" filename version\n",
            "  inflating: cars_dataset/сhevrolet_PNG123.png  \n",
            "cars_dataset/сhevrolet_PNG126.png:  mismatching \"local\" filename (cars_dataset/╤Бhevrolet_PNG126.png),\n",
            "         continuing with \"central\" filename version\n",
            "  inflating: cars_dataset/сhevrolet_PNG126.png  \n",
            "cars_dataset/сhevrolet_PNG129.png:  mismatching \"local\" filename (cars_dataset/╤Бhevrolet_PNG129.png),\n",
            "         continuing with \"central\" filename version\n",
            "  inflating: cars_dataset/сhevrolet_PNG129.png  \n",
            "cars_dataset/сhevrolet_PNG133.png:  mismatching \"local\" filename (cars_dataset/╤Бhevrolet_PNG133.png),\n",
            "         continuing with \"central\" filename version\n",
            "  inflating: cars_dataset/сhevrolet_PNG133.png  \n",
            "cars_dataset/сhevrolet_PNG139.png:  mismatching \"local\" filename (cars_dataset/╤Бhevrolet_PNG139.png),\n",
            "         continuing with \"central\" filename version\n",
            "  inflating: cars_dataset/сhevrolet_PNG139.png  \n",
            "cars_dataset/сhevrolet_PNG140.png:  mismatching \"local\" filename (cars_dataset/╤Бhevrolet_PNG140.png),\n",
            "         continuing with \"central\" filename version\n",
            "  inflating: cars_dataset/сhevrolet_PNG140.png  \n",
            "cars_dataset/сhevrolet_PNG143.png:  mismatching \"local\" filename (cars_dataset/╤Бhevrolet_PNG143.png),\n",
            "         continuing with \"central\" filename version\n",
            "  inflating: cars_dataset/сhevrolet_PNG143.png  \n",
            "cars_dataset/сhevrolet_PNG148.png:  mismatching \"local\" filename (cars_dataset/╤Бhevrolet_PNG148.png),\n",
            "         continuing with \"central\" filename version\n",
            "  inflating: cars_dataset/сhevrolet_PNG148.png  \n",
            "cars_dataset/сhevrolet_PNG149.png:  mismatching \"local\" filename (cars_dataset/╤Бhevrolet_PNG149.png),\n",
            "         continuing with \"central\" filename version\n",
            "  inflating: cars_dataset/сhevrolet_PNG149.png  \n",
            "cars_dataset/сhevrolet_PNG15.png:  mismatching \"local\" filename (cars_dataset/╤Бhevrolet_PNG15.png),\n",
            "         continuing with \"central\" filename version\n",
            "  inflating: cars_dataset/сhevrolet_PNG15.png  \n",
            "cars_dataset/сhevrolet_PNG153.png:  mismatching \"local\" filename (cars_dataset/╤Бhevrolet_PNG153.png),\n",
            "         continuing with \"central\" filename version\n",
            "  inflating: cars_dataset/сhevrolet_PNG153.png  \n",
            "cars_dataset/сhevrolet_PNG155.png:  mismatching \"local\" filename (cars_dataset/╤Бhevrolet_PNG155.png),\n",
            "         continuing with \"central\" filename version\n",
            "  inflating: cars_dataset/сhevrolet_PNG155.png  \n",
            "cars_dataset/сhevrolet_PNG158.png:  mismatching \"local\" filename (cars_dataset/╤Бhevrolet_PNG158.png),\n",
            "         continuing with \"central\" filename version\n",
            "  inflating: cars_dataset/сhevrolet_PNG158.png  \n",
            "cars_dataset/сhevrolet_PNG159.png:  mismatching \"local\" filename (cars_dataset/╤Бhevrolet_PNG159.png),\n",
            "         continuing with \"central\" filename version\n",
            " extracting: cars_dataset/сhevrolet_PNG159.png  \n",
            "cars_dataset/сhevrolet_PNG160.png:  mismatching \"local\" filename (cars_dataset/╤Бhevrolet_PNG160.png),\n",
            "         continuing with \"central\" filename version\n",
            "  inflating: cars_dataset/сhevrolet_PNG160.png  \n",
            "cars_dataset/сhevrolet_PNG164.png:  mismatching \"local\" filename (cars_dataset/╤Бhevrolet_PNG164.png),\n",
            "         continuing with \"central\" filename version\n",
            "  inflating: cars_dataset/сhevrolet_PNG164.png  \n",
            "cars_dataset/сhevrolet_PNG167.png:  mismatching \"local\" filename (cars_dataset/╤Бhevrolet_PNG167.png),\n",
            "         continuing with \"central\" filename version\n",
            " extracting: cars_dataset/сhevrolet_PNG167.png  \n",
            "cars_dataset/сhevrolet_PNG168.png:  mismatching \"local\" filename (cars_dataset/╤Бhevrolet_PNG168.png),\n",
            "         continuing with \"central\" filename version\n",
            "  inflating: cars_dataset/сhevrolet_PNG168.png  \n",
            "cars_dataset/сhevrolet_PNG19.png:  mismatching \"local\" filename (cars_dataset/╤Бhevrolet_PNG19.png),\n",
            "         continuing with \"central\" filename version\n",
            "  inflating: cars_dataset/сhevrolet_PNG19.png  \n",
            "cars_dataset/сhevrolet_PNG2.png:  mismatching \"local\" filename (cars_dataset/╤Бhevrolet_PNG2.png),\n",
            "         continuing with \"central\" filename version\n",
            "  inflating: cars_dataset/сhevrolet_PNG2.png  \n",
            "cars_dataset/сhevrolet_PNG24.png:  mismatching \"local\" filename (cars_dataset/╤Бhevrolet_PNG24.png),\n",
            "         continuing with \"central\" filename version\n",
            "  inflating: cars_dataset/сhevrolet_PNG24.png  \n",
            "cars_dataset/сhevrolet_PNG25.png:  mismatching \"local\" filename (cars_dataset/╤Бhevrolet_PNG25.png),\n",
            "         continuing with \"central\" filename version\n",
            "  inflating: cars_dataset/сhevrolet_PNG25.png  \n",
            "cars_dataset/сhevrolet_PNG28.png:  mismatching \"local\" filename (cars_dataset/╤Бhevrolet_PNG28.png),\n",
            "         continuing with \"central\" filename version\n",
            "  inflating: cars_dataset/сhevrolet_PNG28.png  \n",
            "cars_dataset/сhevrolet_PNG32.png:  mismatching \"local\" filename (cars_dataset/╤Бhevrolet_PNG32.png),\n",
            "         continuing with \"central\" filename version\n",
            "  inflating: cars_dataset/сhevrolet_PNG32.png  \n",
            "cars_dataset/сhevrolet_PNG34.png:  mismatching \"local\" filename (cars_dataset/╤Бhevrolet_PNG34.png),\n",
            "         continuing with \"central\" filename version\n",
            "  inflating: cars_dataset/сhevrolet_PNG34.png  \n",
            "cars_dataset/сhevrolet_PNG35.png:  mismatching \"local\" filename (cars_dataset/╤Бhevrolet_PNG35.png),\n",
            "         continuing with \"central\" filename version\n",
            "  inflating: cars_dataset/сhevrolet_PNG35.png  \n",
            "cars_dataset/сhevrolet_PNG36.png:  mismatching \"local\" filename (cars_dataset/╤Бhevrolet_PNG36.png),\n",
            "         continuing with \"central\" filename version\n",
            "  inflating: cars_dataset/сhevrolet_PNG36.png  \n",
            "cars_dataset/сhevrolet_PNG37.png:  mismatching \"local\" filename (cars_dataset/╤Бhevrolet_PNG37.png),\n",
            "         continuing with \"central\" filename version\n",
            "  inflating: cars_dataset/сhevrolet_PNG37.png  \n",
            "cars_dataset/сhevrolet_PNG38.png:  mismatching \"local\" filename (cars_dataset/╤Бhevrolet_PNG38.png),\n",
            "         continuing with \"central\" filename version\n",
            "  inflating: cars_dataset/сhevrolet_PNG38.png  \n",
            "cars_dataset/сhevrolet_PNG39.png:  mismatching \"local\" filename (cars_dataset/╤Бhevrolet_PNG39.png),\n",
            "         continuing with \"central\" filename version\n",
            "  inflating: cars_dataset/сhevrolet_PNG39.png  \n",
            "cars_dataset/сhevrolet_PNG4.png:  mismatching \"local\" filename (cars_dataset/╤Бhevrolet_PNG4.png),\n",
            "         continuing with \"central\" filename version\n",
            "  inflating: cars_dataset/сhevrolet_PNG4.png  \n",
            "cars_dataset/сhevrolet_PNG43.png:  mismatching \"local\" filename (cars_dataset/╤Бhevrolet_PNG43.png),\n",
            "         continuing with \"central\" filename version\n",
            "  inflating: cars_dataset/сhevrolet_PNG43.png  \n",
            "cars_dataset/сhevrolet_PNG46.png:  mismatching \"local\" filename (cars_dataset/╤Бhevrolet_PNG46.png),\n",
            "         continuing with \"central\" filename version\n",
            "  inflating: cars_dataset/сhevrolet_PNG46.png  \n",
            "cars_dataset/сhevrolet_PNG47.png:  mismatching \"local\" filename (cars_dataset/╤Бhevrolet_PNG47.png),\n",
            "         continuing with \"central\" filename version\n",
            "  inflating: cars_dataset/сhevrolet_PNG47.png  \n",
            "cars_dataset/сhevrolet_PNG49.png:  mismatching \"local\" filename (cars_dataset/╤Бhevrolet_PNG49.png),\n",
            "         continuing with \"central\" filename version\n",
            "  inflating: cars_dataset/сhevrolet_PNG49.png  \n",
            "cars_dataset/сhevrolet_PNG52.png:  mismatching \"local\" filename (cars_dataset/╤Бhevrolet_PNG52.png),\n",
            "         continuing with \"central\" filename version\n",
            "  inflating: cars_dataset/сhevrolet_PNG52.png  \n",
            "cars_dataset/сhevrolet_PNG53.png:  mismatching \"local\" filename (cars_dataset/╤Бhevrolet_PNG53.png),\n",
            "         continuing with \"central\" filename version\n",
            "  inflating: cars_dataset/сhevrolet_PNG53.png  \n",
            "cars_dataset/сhevrolet_PNG54.png:  mismatching \"local\" filename (cars_dataset/╤Бhevrolet_PNG54.png),\n",
            "         continuing with \"central\" filename version\n",
            "  inflating: cars_dataset/сhevrolet_PNG54.png  \n",
            "cars_dataset/сhevrolet_PNG56.png:  mismatching \"local\" filename (cars_dataset/╤Бhevrolet_PNG56.png),\n",
            "         continuing with \"central\" filename version\n",
            "  inflating: cars_dataset/сhevrolet_PNG56.png  \n",
            "cars_dataset/сhevrolet_PNG59.png:  mismatching \"local\" filename (cars_dataset/╤Бhevrolet_PNG59.png),\n",
            "         continuing with \"central\" filename version\n",
            "  inflating: cars_dataset/сhevrolet_PNG59.png  \n",
            "cars_dataset/сhevrolet_PNG69.png:  mismatching \"local\" filename (cars_dataset/╤Бhevrolet_PNG69.png),\n",
            "         continuing with \"central\" filename version\n",
            " extracting: cars_dataset/сhevrolet_PNG69.png  \n",
            "cars_dataset/сhevrolet_PNG70.png:  mismatching \"local\" filename (cars_dataset/╤Бhevrolet_PNG70.png),\n",
            "         continuing with \"central\" filename version\n",
            "  inflating: cars_dataset/сhevrolet_PNG70.png  \n",
            "cars_dataset/сhevrolet_PNG73.png:  mismatching \"local\" filename (cars_dataset/╤Бhevrolet_PNG73.png),\n",
            "         continuing with \"central\" filename version\n",
            "  inflating: cars_dataset/сhevrolet_PNG73.png  \n",
            "cars_dataset/сhevrolet_PNG80.png:  mismatching \"local\" filename (cars_dataset/╤Бhevrolet_PNG80.png),\n",
            "         continuing with \"central\" filename version\n",
            "  inflating: cars_dataset/сhevrolet_PNG80.png  \n",
            "cars_dataset/сhevrolet_PNG87.png:  mismatching \"local\" filename (cars_dataset/╤Бhevrolet_PNG87.png),\n",
            "         continuing with \"central\" filename version\n",
            "  inflating: cars_dataset/сhevrolet_PNG87.png  \n",
            "cars_dataset/сhevrolet_PNG91.png:  mismatching \"local\" filename (cars_dataset/╤Бhevrolet_PNG91.png),\n",
            "         continuing with \"central\" filename version\n",
            "  inflating: cars_dataset/сhevrolet_PNG91.png  \n",
            "cars_dataset/сhevrolet_PNG99.png:  mismatching \"local\" filename (cars_dataset/╤Бhevrolet_PNG99.png),\n",
            "         continuing with \"central\" filename version\n",
            "  inflating: cars_dataset/сhevrolet_PNG99.png  \n"
          ],
          "name": "stdout"
        }
      ]
    },
    {
      "cell_type": "code",
      "metadata": {
        "id": "-7T_kw7-VR5N",
        "colab_type": "code",
        "colab": {
          "base_uri": "https://localhost:8080/",
          "height": 52
        },
        "outputId": "50716dc7-0160-4e9c-f735-575e28fac981"
      },
      "source": [
        "!pwd\n",
        "!ls"
      ],
      "execution_count": 4,
      "outputs": [
        {
          "output_type": "stream",
          "text": [
            "/content\n",
            "cars_dataset  cars_dataset.zip\tdrive  sample_data\n"
          ],
          "name": "stdout"
        }
      ]
    },
    {
      "cell_type": "markdown",
      "metadata": {
        "id": "dGAO0N1_ZNkm",
        "colab_type": "text"
      },
      "source": [
        "##Preprocess dataset. dataset has different dimensions and sizes. So return the 100*100 size that GANS can handle."
      ]
    },
    {
      "cell_type": "code",
      "metadata": {
        "id": "epkfhkDEhRAD",
        "colab_type": "code",
        "colab": {}
      },
      "source": [
        "import numpy as np\n",
        "import cv2\n",
        "import io\n",
        "import os\n",
        "import torch\n",
        "from torch.utils.data import DataLoader, Dataset\n",
        "from torchvision.transforms import ToTensor\n",
        "from torchvision import transforms\n",
        "import zipfile\n",
        "from PIL import Image\n",
        "import sys\n",
        "import torch.utils.data\n",
        "import timeit\n",
        "import logging\n",
        "root_dir = \"/content/cars_dataset\"\n",
        "class PreprocessImageFolderDataset(Dataset):\n",
        "\n",
        "  def __init__(self, root_dir, transform=ToTensor()):\n",
        "    'Initialization'\n",
        "    self.m_root = root_dir\n",
        "    self.m_transform = transform\n",
        "    logging.basicConfig(filename = \"/content/dataloader_timeit.log\",datefmt='%H:%M:%S',level=logging.DEBUG)\n",
        "    #self.g_dict_fileindex = dict()\n",
        "    self.g_array_fileindex1 = []\n",
        "    self.walkTheDirectory(self.m_root) \n",
        "    self.m_length = len(self.g_array_fileindex1)\n",
        "  \n",
        "  def walkTheDirectory(self,root_dir):\n",
        "    #for root, dirs, files in os.walk('python/Lib/email'):\n",
        "    # for file in files:\n",
        "    #    with open(os.path.join(root, file), \"r\") as auto: \n",
        "   \n",
        "    for path, subdirs, files in os.walk(self.m_root): # path should give the complete path till the last directory.\n",
        "        for filename in files:\n",
        "            #print(os.path.join(path, filename))\n",
        "            full_path = os.path.join(path, filename)\n",
        "            self.g_array_fileindex1.append(full_path)\n",
        "            \n",
        " \n",
        "  def __len__(self):\n",
        "    'Denotes the total number of samples'\n",
        "    return self.m_length;\n",
        "\n",
        "  \n",
        "  def __getitem__(self, idx):\n",
        "    if idx >= self.m_length:\n",
        "        print('index', idx, 'is bigger than the actual dataset size')\n",
        "        return\n",
        "        \n",
        "    start_time = timeit.default_timer()\n",
        "\n",
        "    # Pick the file from the index\n",
        "    size = 128, 128\n",
        "    file = self.g_array_fileindex1[idx]\n",
        "    \n",
        "    try:\n",
        "      image = Image.open(file).convert('RGB') # even grey scale images will be converted to RGB with 3 channels\n",
        "      #temporarily we will resize to 224*224\n",
        "      # We need to look into meaningful way of resizing (...pyramid pooling??)\n",
        "      image = image.resize((128,128), Image.ANTIALIAS)\n",
        "      \n",
        "      \"\"\"\n",
        "      #Create jpg file\n",
        "      basefile=os.path.basename(file)#This comes with extension\n",
        "      #split with extension\n",
        "      file1, ext = os.path.splitext(basefile)\n",
        "      file1 = file1 + \".jpg\"\n",
        "      file1 = os.path.join(dir1,file1)#complete new file path\n",
        "      print('new filename=',file1)\n",
        "      image.save(file1)\n",
        "      \"\"\"\n",
        "\n",
        "      if self.m_transform:\n",
        "        image = self.m_transform(image)\n",
        "    except:\n",
        "      print(\"exception while opening=\",file)\n",
        "      \n",
        "    load_time = timeit.default_timer() - start_time\n",
        "    \n",
        "    desc = f' file={file} size={image.size} LOAD_TIME={load_time:0.3f}'\n",
        "    logging.info(desc)\n",
        "      \n",
        "    return image, file\n",
        "    \n",
        "import torch\n",
        "import torchvision.transforms\n",
        "\n",
        "#import WingsFolderDataset as wingsDataset\n",
        "device = torch.device(\"cuda\") if torch.cuda.is_available() else torch.device(\"cpu\")\n",
        "\n",
        "root_dir = \"/content/cars_dataset\"\n",
        "\n",
        "tr=transforms.Compose([\n",
        "                               transforms.Resize((128,128)),\n",
        "                               transforms.CenterCrop((128,128)),\n",
        "                               transforms.ToTensor(),\n",
        "                               transforms.Normalize((0.5, 0.5, 0.5), (0.5, 0.5, 0.5)),\n",
        "                           ])\n",
        "\n",
        "data_set = PreprocessImageFolderDataset(\"/content/cars_dataset\", transform = tr)\n"
      ],
      "execution_count": 5,
      "outputs": []
    },
    {
      "cell_type": "markdown",
      "metadata": {
        "id": "7rLmP4YnkHb7",
        "colab_type": "text"
      },
      "source": [
        "##GANS Discriminator and Generator"
      ]
    },
    {
      "cell_type": "code",
      "metadata": {
        "id": "PqBUSiL1fjeD",
        "colab_type": "code",
        "colab": {
          "base_uri": "https://localhost:8080/",
          "height": 193
        },
        "outputId": "9b423e55-c359-4a06-e169-c9e7fa599850"
      },
      "source": [
        "from __future__ import print_function\n",
        "#%matplotlib inline\n",
        "import argparse\n",
        "import os\n",
        "import random\n",
        "import torch\n",
        "import torch.nn as nn\n",
        "import torch.nn.parallel\n",
        "import torch.backends.cudnn as cudnn\n",
        "import torch.optim as optim\n",
        "import torch.utils.data\n",
        "import torchvision.datasets as dset\n",
        "import torchvision.transforms as transforms\n",
        "import torchvision.utils as vutils\n",
        "import numpy as np\n",
        "import matplotlib.pyplot as plt\n",
        "import matplotlib.animation as animation\n",
        "from IPython.display import HTML\n",
        "\n",
        "manualSeed = 999\n",
        "#manualSeed = random.randint(1, 10000) # use if you want new results\n",
        "print(\"Random Seed: \", manualSeed)\n",
        "random.seed(manualSeed)\n",
        "torch.manual_seed(manualSeed)\n",
        "\n",
        "# Root directory for dataset\n",
        "dataroot =\"/content/cars_dataset\"\n",
        "\n",
        "# Number of workers for dataloader\n",
        "workers = 2\n",
        "\n",
        "# Batch size during training\n",
        "# batch_size = 128\n",
        "batch_size = 8\n",
        "\n",
        "# Spatial size of training images. All images will be resized to this\n",
        "#   size using a transformer.\n",
        "image_size = 128\n",
        "\n",
        "# Number of channels in the training images. For color images this is 3\n",
        "nc = 3\n",
        "\n",
        "# Size of z latent vector (i.e. size of generator input)\n",
        "nz = 100\n",
        "\n",
        "# Size of feature maps in generator\n",
        "ngf = 64\n",
        "\n",
        "# Size of feature maps in discriminator\n",
        "ndf = 64\n",
        "\n",
        "# Number of training epochs\n",
        "num_epochs = 100\n",
        "\n",
        "# Learning rate for optimizers\n",
        "lr_gen = 0.0002\n",
        "lr_dis = 0.00005\n",
        "\n",
        "# Beta1 hyperparam for Adam optimizers\n",
        "beta1 = 0.5\n",
        "\n",
        "# Number of GPUs available. Use 0 for CPU mode.\n",
        "ngpu = 1\n",
        "\n",
        "# custom weights initialization called on netG and netD\n",
        "def weights_init(m):\n",
        "    classname = m.__class__.__name__\n",
        "    if classname.find('Conv') != -1:\n",
        "        nn.init.normal_(m.weight.data, 0.0, 0.02)\n",
        "    elif classname.find('BatchNorm') != -1:\n",
        "        nn.init.normal_(m.weight.data, 1.0, 0.02)\n",
        "        nn.init.constant_(m.bias.data, 0)\n",
        "\n",
        "tr=transforms.Compose([\n",
        "                               transforms.Resize((128,128)),\n",
        "                               transforms.CenterCrop((128,128)),\n",
        "                               transforms.ToTensor(),\n",
        "                               transforms.Normalize((0.5, 0.5, 0.5), (0.5, 0.5, 0.5)),\n",
        "                           ])\n",
        "\n",
        "\n",
        "dataset = PreprocessImageFolderDataset(\"/content/cars_dataset\", transform = tr)\n",
        "\n",
        "# Create the dataloader\n",
        "dataloader = torch.utils.data.DataLoader(dataset, batch_size=batch_size,\n",
        "                                         shuffle=True, num_workers=workers)\n",
        "# Decide which device we want to run on\n",
        "device = torch.device(\"cuda:0\" if (torch.cuda.is_available() and ngpu > 0) else \"cpu\")\n",
        "# Plot some training images\n",
        "real_batch = next(iter(dataloader))\n",
        "plt.figure(figsize=(8,8))\n",
        "plt.axis(\"off\")\n",
        "plt.title(\"Training Images\")\n",
        "plt.imshow(np.transpose(vutils.make_grid(real_batch[0].to(device)[:64], padding=2, normalize=True).cpu(),(1,2,0)))\n",
        "\n",
        "dataset\n",
        "\n",
        "device\n"
      ],
      "execution_count": 7,
      "outputs": [
        {
          "output_type": "stream",
          "text": [
            "Random Seed:  999\n"
          ],
          "name": "stdout"
        },
        {
          "output_type": "stream",
          "text": [
            "/usr/local/lib/python3.6/dist-packages/PIL/Image.py:932: UserWarning: Palette images with Transparency expressed in bytes should be converted to RGBA images\n",
            "  \"Palette images with Transparency expressed in bytes should be \"\n"
          ],
          "name": "stderr"
        },
        {
          "output_type": "execute_result",
          "data": {
            "text/plain": [
              "device(type='cuda', index=0)"
            ]
          },
          "metadata": {
            "tags": []
          },
          "execution_count": 7
        },
        {
          "output_type": "display_data",
          "data": {
            "image/png": "[encoded data removed]",
            "text/plain": [
              "<Figure size 576x576 with 1 Axes>"
            ]
          },
          "metadata": {
            "tags": [],
            "needs_background": "light"
          }
        }
      ]
    },
    {
      "cell_type": "code",
      "metadata": {
        "id": "e7Epdya9m8tN",
        "colab_type": "code",
        "colab": {}
      },
      "source": [
        "class Generator(nn.Module):\n",
        "    def __init__(self, ngpu):\n",
        "        super(Generator, self).__init__()\n",
        "        self.ngpu = ngpu\n",
        "        self.main = nn.Sequential(\n",
        "            # input is Z, going into a convolution\n",
        "            nn.ConvTranspose2d(     nz, ngf * 16, 4, 1, 0, bias=False),\n",
        "            nn.BatchNorm2d(ngf * 16),\n",
        "            nn.ReLU(True),\n",
        "            # state size. (ngf*16) x 4 x 4\n",
        "            nn.ConvTranspose2d(ngf * 16, ngf * 8, 4, 2, 1, bias=False),\n",
        "            nn.BatchNorm2d(ngf * 8),\n",
        "            nn.ReLU(True),\n",
        "            # state size. (ngf*8) x 8 x 8\n",
        "            nn.ConvTranspose2d(ngf * 8, ngf * 4, 4, 2, 1, bias=False),\n",
        "            nn.BatchNorm2d(ngf * 4),\n",
        "            nn.ReLU(True),\n",
        "            # state size. (ngf*4) x 16 x 16\n",
        "            nn.ConvTranspose2d(ngf * 4, ngf * 2, 4, 2, 1, bias=False),\n",
        "            nn.BatchNorm2d(ngf * 2),\n",
        "            nn.ReLU(True),\n",
        "            # state size. (ngf*2) x 32 x 32\n",
        "            nn.ConvTranspose2d(ngf * 2,     ngf, 4, 2, 1, bias=False),\n",
        "            nn.BatchNorm2d(ngf),\n",
        "            nn.ReLU(True),\n",
        "            # state size. (ngf) x 64 x 64\n",
        "            nn.ConvTranspose2d(    ngf,      nc, 4, 2, 1, bias=False),\n",
        "            nn.Tanh()\n",
        "            # state size. (nc) x 128 x 128\n",
        "        )\n",
        "\n",
        "    def forward(self, input):\n",
        "        return self.main(input)\n",
        "\n",
        "# # Create the generator\n",
        "# netG = Generator(ngpu).to(device)\n",
        "#\n",
        "# # Handle multi-gpu if desired\n",
        "# if (device.type == 'cuda') and (ngpu > 1):\n",
        "#     netG = nn.DataParallel(netG, list(range(ngpu)))\n",
        "#\n",
        "# # Apply the weights_init function to randomly initialize all weights\n",
        "# #  to mean=0, stdev=0.2.\n",
        "# netG.apply(weights_init)\n",
        "#\n",
        "# # Print the model\n",
        "# print(netG)\n",
        "\n",
        "\n",
        "class Discriminator(nn.Module):\n",
        "    def __init__(self, ngpu):\n",
        "        super(Discriminator, self).__init__()\n",
        "        self.ngpu = ngpu\n",
        "        self.main = nn.Sequential(\n",
        "            # input is (nc) x 128 x 128\n",
        "            nn.Conv2d(nc, ndf, 4, stride=2, padding=1, bias=False),\n",
        "            nn.LeakyReLU(0.2, inplace=True),\n",
        "            # state size. (ndf) x 64 x 64\n",
        "            nn.Conv2d(ndf, ndf * 2, 4, stride=2, padding=1, bias=False),\n",
        "            nn.BatchNorm2d(ndf * 2),\n",
        "            nn.LeakyReLU(0.2, inplace=True),\n",
        "            # state size. (ndf*2) x 32 x 32\n",
        "            nn.Conv2d(ndf * 2, ndf * 4, 4, stride=2, padding=1, bias=False),\n",
        "            nn.BatchNorm2d(ndf * 4),\n",
        "            nn.LeakyReLU(0.2, inplace=True),\n",
        "            # state size. (ndf*4) x 16 x 16\n",
        "            nn.Conv2d(ndf * 4, ndf * 8, 4, stride=2, padding=1, bias=False),\n",
        "            nn.BatchNorm2d(ndf * 8),\n",
        "            nn.LeakyReLU(0.2, inplace=True),\n",
        "            # state size. (ndf*8) x 8 x 8\n",
        "            nn.Conv2d(ndf * 8, ndf * 16, 4, stride=2, padding=1, bias=False),\n",
        "            nn.BatchNorm2d(ndf * 16),\n",
        "            nn.LeakyReLU(0.2, inplace=True),\n",
        "            # state size. (ndf*16) x 4 x 4\n",
        "            nn.Conv2d(ndf * 16, 1, 4, stride=1, padding=0, bias=False),\n",
        "            nn.Sigmoid()\n",
        "            # state size. 1\n",
        "        )\n",
        "\n",
        "    def forward(self, input):\n",
        "        return self.main(input)\n",
        "\n",
        "# # Create the Discriminator\n",
        "# netD = Discriminator(ngpu).to(device)\n",
        "#\n",
        "# # Handle multi-gpu if desired\n",
        "# if (device.type == 'cuda') and (ngpu > 1):\n",
        "#     netD = nn.DataParallel(netD, list(range(ngpu)))\n",
        "#\n",
        "# # Apply the weights_init function to randomly initialize all weights\n",
        "# #  to mean=0, stdev=0.2.\n",
        "# netD.apply(weights_init)\n",
        "#\n",
        "# # Print the model\n",
        "# print(netD)"
      ],
      "execution_count": 8,
      "outputs": []
    },
    {
      "cell_type": "code",
      "metadata": {
        "id": "HnOnIuSrnKw4",
        "colab_type": "code",
        "colab": {
          "base_uri": "https://localhost:8080/",
          "height": 1000
        },
        "outputId": "ebf322aa-321c-472f-b3d9-ae6864b73dc6"
      },
      "source": [
        "netG = Generator(ngpu).to(device)\n",
        "netD = Discriminator(ngpu).to(device)\n",
        "optimizerD = optim.Adam(netD.parameters(), lr=lr_dis, betas=(0.5, 0.999))\n",
        "optimizerG = optim.Adam(netG.parameters(), lr=lr_gen, betas=(0.5, 0.999))\n",
        "\n",
        "#checkpoint = torch.load(\"/content/artifacts/128_CarGan_epoch49.tar\")\n",
        "#netG.load_state_dict(checkpoint['netG_state_dict'])\n",
        "#netD.load_state_dict(checkpoint['netD_state_dict'])\n",
        "#optimizerD.load_state_dict(checkpoint['optimizerD_state_dict'])\n",
        "#optimizerG.load_state_dict(checkpoint['optimizerG_state_dict'])\n",
        "\n",
        "# Initialize BCELoss function\n",
        "criterion = nn.BCELoss()\n",
        "\n",
        "# Create batch of latent vectors that we will use to visualize\n",
        "#  the progression of the generator\n",
        "fixed_noise = torch.randn(64, nz, 1, 1, device=device)\n",
        "\n",
        "# Establish convention for real and fake labels during training\n",
        "real_label = 1\n",
        "fake_label = 0\n",
        "\n",
        "# Setup Adam optimizers for both G and D\n",
        "optimizerD = optim.Adam(netD.parameters(), lr=lr_dis, betas=(beta1, 0.999))\n",
        "optimizerG = optim.Adam(netG.parameters(), lr=lr_gen, betas=(beta1, 0.999))\n",
        "\n",
        "netG.train()\n",
        "netD.train()\n",
        "print(netG)\n",
        "print(netD)\n",
        "\n",
        "# Training Loop\n",
        "\n",
        "# Lists to keep track of progress\n",
        "img_list = []\n",
        "G_losses = []\n",
        "D_losses = []\n",
        "iters = 0\n",
        "\n",
        "print(\"Starting Training Loop...\")\n",
        "# For each epoch\n",
        "for epoch in range(num_epochs):\n",
        "    # For each batch in the dataloader\n",
        "    print(\"epoch:\",epoch)\n",
        "    for i, data in enumerate(dataloader, 0):\n",
        "\n",
        "        ############################\n",
        "        # (1) Update D network: maximize log(D(x)) + log(1 - D(G(z)))\n",
        "        ###########################\n",
        "        ## Train with all-real batch\n",
        "        netD.zero_grad()\n",
        "        # Format batch\n",
        "        image, file = data\n",
        "        image = image.to(device)\n",
        "        b_size = image.size(0)\n",
        "        \n",
        "        real_cpu = data[0].to(device)\n",
        "        b_size = real_cpu.size(0)\n",
        "        label = torch.full((b_size,), real_label, device=device, dtype=torch.float32)\n",
        "        # Forward pass real batch through D\n",
        "        output = netD(real_cpu).view(-1)\n",
        "        # Calculate loss on all-real batch\n",
        "        errD_real = criterion(output, label)\n",
        "        # Calculate gradients for D in backward pass\n",
        "        errD_real.backward()\n",
        "        D_x = output.mean().item()\n",
        "\n",
        "        ## Train with all-fake batch\n",
        "        # Generate batch of latent vectors\n",
        "        noise = torch.randn(b_size, nz, 1, 1, device=device)\n",
        "        # Generate fake image batch with G\n",
        "        fake = netG(noise)\n",
        "        label.fill_(fake_label)\n",
        "        # Classify all fake batch with D\n",
        "        output = netD(fake.detach()).view(-1)\n",
        "        # Calculate D's loss on the all-fake batch\n",
        "        errD_fake = criterion(output, label)\n",
        "        # Calculate the gradients for this batch\n",
        "        errD_fake.backward()\n",
        "        D_G_z1 = output.mean().item()\n",
        "        # Add the gradients from the all-real and all-fake batches\n",
        "        errD = errD_real + errD_fake\n",
        "        # Update D\n",
        "        optimizerD.step()\n",
        "\n",
        "        ############################\n",
        "        # (2) Update G network: maximize log(D(G(z)))\n",
        "        ###########################\n",
        "        netG.zero_grad()\n",
        "        label.fill_(real_label)  # fake labels are real for generator cost\n",
        "        # Since we just updated D, perform another forward pass of all-fake batch through D\n",
        "        output = netD(fake).view(-1)\n",
        "        # Calculate G's loss based on this output\n",
        "        errG = criterion(output, label)\n",
        "        # Calculate gradients for G\n",
        "        errG.backward()\n",
        "        D_G_z2 = output.mean().item()\n",
        "        # Update G\n",
        "        optimizerG.step()\n",
        "\n",
        "        # Output training stats\n",
        "        if i % 50 == 0:\n",
        "            print('[%d/%d][%d/%d]\\tLoss_D: %.4f\\tLoss_G: %.4f\\tD(x): %.4f\\tD(G(z)): %.4f / %.4f'\n",
        "                   % (epoch, num_epochs, i, len(dataloader),\n",
        "                     errD.item(), errG.item(), D_x, D_G_z1, D_G_z2))\n",
        "\n",
        "        # Save Losses for plotting later\n",
        "        G_losses.append(errG.item())\n",
        "        D_losses.append(errD.item())\n",
        "\n",
        "        # Check how the generator is doing by saving G's output on fixed_noise\n",
        "        if (iters % 500 == 0) or ((epoch == num_epochs-1) and (i == len(dataloader)-1)):\n",
        "            with torch.no_grad():\n",
        "                fake = netG(fixed_noise).detach().cpu()\n",
        "            img_list.append(vutils.make_grid(fake[0:16], padding = 2, normalize = True, nrow = 4))\n",
        "\n",
        "\n",
        "\n",
        "        iters += 1\n",
        "\n",
        "\n",
        "    fig = plt.figure(figsize = (12,12))\n",
        "    ims = [[plt.imshow(np.transpose(i,(1,2,0)), animated=False)] for i in img_list]\n",
        "    plt.savefig(\"/content/artifacts/\" + str(epoch) + \".png\")\n",
        "    plt.close()\n",
        "    torch.save({\n",
        "        'netG_state_dict': netG.state_dict(),\n",
        "        'netD_state_dict': netD.state_dict(),\n",
        "        'optimizerG_state_dict': optimizerG.state_dict(),\n",
        "        'optimizerD_state_dict': optimizerD.state_dict()\n",
        "        }, '/content/artifacts/128_CarGan_epoch' + str(epoch) + '.tar')\n",
        "\n",
        "\n",
        "\n",
        "\n",
        "plt.figure(figsize=(10,5))\n",
        "plt.title(\"Generator and Discriminator Loss During Training\")\n",
        "plt.plot(G_losses,label=\"G\")\n",
        "plt.plot(D_losses,label=\"D\")\n",
        "plt.xlabel(\"iterations\")\n",
        "plt.ylabel(\"Loss\")\n",
        "plt.legend()\n",
        "plt.show()\n",
        "\n",
        "'''\n",
        "#%%capture\n",
        "fig = plt.figure(figsize=(8,8))\n",
        "plt.axis(\"off\")\n",
        "ims = [[plt.imshow(np.transpose(i,(1,2,0)), animated=True)] for i in img_list]\n",
        "ani = animation.ArtistAnimation(fig, ims, interval=1000, repeat_delay=1000, blit=True)\n",
        "HTML(ani.to_jshtml())\n",
        "'''\n",
        "\n",
        "\n",
        "\n",
        "torch.save({\n",
        "    'netG_state_dict': netG.state_dict(),\n",
        "    'netD_state_dict': netD.state_dict(),\n",
        "    'optimizerG_state_dict': optimizerG.state_dict(),\n",
        "    'optimizerD_state_dict': optimizerD.state_dict()\n",
        "    }, '/content/artifacts/128_CarGan.tar')\n",
        "\n",
        "# sample = netG(fixed_noise).detach().cpu()\n",
        "# vutils.make_grid(sample, padding=2, normalize=True)\n",
        "# plt.imshow(np.transpose((1,2,0)))"
      ],
      "execution_count": 10,
      "outputs": [
        {
          "output_type": "stream",
          "text": [
            "Generator(\n",
            "  (main): Sequential(\n",
            "    (0): ConvTranspose2d(100, 1024, kernel_size=(4, 4), stride=(1, 1), bias=False)\n",
            "    (1): BatchNorm2d(1024, eps=1e-05, momentum=0.1, affine=True, track_running_stats=True)\n",
            "    (2): ReLU(inplace=True)\n",
            "    (3): ConvTranspose2d(1024, 512, kernel_size=(4, 4), stride=(2, 2), padding=(1, 1), bias=False)\n",
            "    (4): BatchNorm2d(512, eps=1e-05, momentum=0.1, affine=True, track_running_stats=True)\n",
            "    (5): ReLU(inplace=True)\n",
            "    (6): ConvTranspose2d(512, 256, kernel_size=(4, 4), stride=(2, 2), padding=(1, 1), bias=False)\n",
            "    (7): BatchNorm2d(256, eps=1e-05, momentum=0.1, affine=True, track_running_stats=True)\n",
            "    (8): ReLU(inplace=True)\n",
            "    (9): ConvTranspose2d(256, 128, kernel_size=(4, 4), stride=(2, 2), padding=(1, 1), bias=False)\n",
            "    (10): BatchNorm2d(128, eps=1e-05, momentum=0.1, affine=True, track_running_stats=True)\n",
            "    (11): ReLU(inplace=True)\n",
            "    (12): ConvTranspose2d(128, 64, kernel_size=(4, 4), stride=(2, 2), padding=(1, 1), bias=False)\n",
            "    (13): BatchNorm2d(64, eps=1e-05, momentum=0.1, affine=True, track_running_stats=True)\n",
            "    (14): ReLU(inplace=True)\n",
            "    (15): ConvTranspose2d(64, 3, kernel_size=(4, 4), stride=(2, 2), padding=(1, 1), bias=False)\n",
            "    (16): Tanh()\n",
            "  )\n",
            ")\n",
            "Discriminator(\n",
            "  (main): Sequential(\n",
            "    (0): Conv2d(3, 64, kernel_size=(4, 4), stride=(2, 2), padding=(1, 1), bias=False)\n",
            "    (1): LeakyReLU(negative_slope=0.2, inplace=True)\n",
            "    (2): Conv2d(64, 128, kernel_size=(4, 4), stride=(2, 2), padding=(1, 1), bias=False)\n",
            "    (3): BatchNorm2d(128, eps=1e-05, momentum=0.1, affine=True, track_running_stats=True)\n",
            "    (4): LeakyReLU(negative_slope=0.2, inplace=True)\n",
            "    (5): Conv2d(128, 256, kernel_size=(4, 4), stride=(2, 2), padding=(1, 1), bias=False)\n",
            "    (6): BatchNorm2d(256, eps=1e-05, momentum=0.1, affine=True, track_running_stats=True)\n",
            "    (7): LeakyReLU(negative_slope=0.2, inplace=True)\n",
            "    (8): Conv2d(256, 512, kernel_size=(4, 4), stride=(2, 2), padding=(1, 1), bias=False)\n",
            "    (9): BatchNorm2d(512, eps=1e-05, momentum=0.1, affine=True, track_running_stats=True)\n",
            "    (10): LeakyReLU(negative_slope=0.2, inplace=True)\n",
            "    (11): Conv2d(512, 1024, kernel_size=(4, 4), stride=(2, 2), padding=(1, 1), bias=False)\n",
            "    (12): BatchNorm2d(1024, eps=1e-05, momentum=0.1, affine=True, track_running_stats=True)\n",
            "    (13): LeakyReLU(negative_slope=0.2, inplace=True)\n",
            "    (14): Conv2d(1024, 1, kernel_size=(4, 4), stride=(1, 1), bias=False)\n",
            "    (15): Sigmoid()\n",
            "  )\n",
            ")\n",
            "Starting Training Loop...\n",
            "epoch: 0\n"
          ],
          "name": "stdout"
        },
        {
          "output_type": "stream",
          "text": [
            "/usr/local/lib/python3.6/dist-packages/PIL/Image.py:932: UserWarning: Palette images with Transparency expressed in bytes should be converted to RGBA images\n",
            "  \"Palette images with Transparency expressed in bytes should be \"\n",
            "/usr/local/lib/python3.6/dist-packages/PIL/Image.py:932: UserWarning: Palette images with Transparency expressed in bytes should be converted to RGBA images\n",
            "  \"Palette images with Transparency expressed in bytes should be \"\n"
          ],
          "name": "stderr"
        },
        {
          "output_type": "stream",
          "text": [
            "[0/100][0/65]\tLoss_D: 1.2664\tLoss_G: 3.8070\tD(x): 0.5753\tD(G(z)): 0.5054 / 0.0228\n",
            "[0/100][50/65]\tLoss_D: 0.1709\tLoss_G: 7.2296\tD(x): 0.9212\tD(G(z)): 0.0746 / 0.0008\n",
            "epoch: 1\n"
          ],
          "name": "stdout"
        },
        {
          "output_type": "stream",
          "text": [
            "/usr/local/lib/python3.6/dist-packages/PIL/Image.py:932: UserWarning: Palette images with Transparency expressed in bytes should be converted to RGBA images\n",
            "  \"Palette images with Transparency expressed in bytes should be \"\n"
          ],
          "name": "stderr"
        },
        {
          "output_type": "stream",
          "text": [
            "[1/100][0/65]\tLoss_D: 0.1244\tLoss_G: 7.5133\tD(x): 0.9406\tD(G(z)): 0.0570 / 0.0006\n"
          ],
          "name": "stdout"
        },
        {
          "output_type": "stream",
          "text": [
            "/usr/local/lib/python3.6/dist-packages/PIL/Image.py:932: UserWarning: Palette images with Transparency expressed in bytes should be converted to RGBA images\n",
            "  \"Palette images with Transparency expressed in bytes should be \"\n"
          ],
          "name": "stderr"
        },
        {
          "output_type": "stream",
          "text": [
            "[1/100][50/65]\tLoss_D: 0.0584\tLoss_G: 12.4447\tD(x): 0.9464\tD(G(z)): 0.0000 / 0.0000\n",
            "epoch: 2\n"
          ],
          "name": "stdout"
        },
        {
          "output_type": "stream",
          "text": [
            "/usr/local/lib/python3.6/dist-packages/PIL/Image.py:932: UserWarning: Palette images with Transparency expressed in bytes should be converted to RGBA images\n",
            "  \"Palette images with Transparency expressed in bytes should be \"\n",
            "/usr/local/lib/python3.6/dist-packages/PIL/Image.py:932: UserWarning: Palette images with Transparency expressed in bytes should be converted to RGBA images\n",
            "  \"Palette images with Transparency expressed in bytes should be \"\n"
          ],
          "name": "stderr"
        },
        {
          "output_type": "stream",
          "text": [
            "[2/100][0/65]\tLoss_D: 0.5842\tLoss_G: 4.5384\tD(x): 0.6210\tD(G(z)): 0.0038 / 0.0140\n",
            "[2/100][50/65]\tLoss_D: 2.2931\tLoss_G: 0.9350\tD(x): 0.2043\tD(G(z)): 0.1152 / 0.4179\n",
            "epoch: 3\n"
          ],
          "name": "stdout"
        },
        {
          "output_type": "stream",
          "text": [
            "/usr/local/lib/python3.6/dist-packages/PIL/Image.py:932: UserWarning: Palette images with Transparency expressed in bytes should be converted to RGBA images\n",
            "  \"Palette images with Transparency expressed in bytes should be \"\n"
          ],
          "name": "stderr"
        },
        {
          "output_type": "stream",
          "text": [
            "[3/100][0/65]\tLoss_D: 2.6692\tLoss_G: 1.2976\tD(x): 0.1153\tD(G(z)): 0.2698 / 0.3824\n"
          ],
          "name": "stdout"
        },
        {
          "output_type": "stream",
          "text": [
            "/usr/local/lib/python3.6/dist-packages/PIL/Image.py:932: UserWarning: Palette images with Transparency expressed in bytes should be converted to RGBA images\n",
            "  \"Palette images with Transparency expressed in bytes should be \"\n"
          ],
          "name": "stderr"
        },
        {
          "output_type": "stream",
          "text": [
            "[3/100][50/65]\tLoss_D: 1.1313\tLoss_G: 3.2672\tD(x): 0.7976\tD(G(z)): 0.5573 / 0.0497\n",
            "epoch: 4\n"
          ],
          "name": "stdout"
        },
        {
          "output_type": "stream",
          "text": [
            "/usr/local/lib/python3.6/dist-packages/PIL/Image.py:932: UserWarning: Palette images with Transparency expressed in bytes should be converted to RGBA images\n",
            "  \"Palette images with Transparency expressed in bytes should be \"\n"
          ],
          "name": "stderr"
        },
        {
          "output_type": "stream",
          "text": [
            "[4/100][0/65]\tLoss_D: 0.7108\tLoss_G: 2.7694\tD(x): 0.8756\tD(G(z)): 0.4231 / 0.0715\n"
          ],
          "name": "stdout"
        },
        {
          "output_type": "stream",
          "text": [
            "/usr/local/lib/python3.6/dist-packages/PIL/Image.py:932: UserWarning: Palette images with Transparency expressed in bytes should be converted to RGBA images\n",
            "  \"Palette images with Transparency expressed in bytes should be \"\n"
          ],
          "name": "stderr"
        },
        {
          "output_type": "stream",
          "text": [
            "[4/100][50/65]\tLoss_D: 1.2862\tLoss_G: 1.7108\tD(x): 0.6580\tD(G(z)): 0.5165 / 0.1983\n",
            "epoch: 5\n"
          ],
          "name": "stdout"
        },
        {
          "output_type": "stream",
          "text": [
            "/usr/local/lib/python3.6/dist-packages/PIL/Image.py:932: UserWarning: Palette images with Transparency expressed in bytes should be converted to RGBA images\n",
            "  \"Palette images with Transparency expressed in bytes should be \"\n"
          ],
          "name": "stderr"
        },
        {
          "output_type": "stream",
          "text": [
            "[5/100][0/65]\tLoss_D: 1.7516\tLoss_G: 1.3661\tD(x): 0.5643\tD(G(z)): 0.6175 / 0.2662\n"
          ],
          "name": "stdout"
        },
        {
          "output_type": "stream",
          "text": [
            "/usr/local/lib/python3.6/dist-packages/PIL/Image.py:932: UserWarning: Palette images with Transparency expressed in bytes should be converted to RGBA images\n",
            "  \"Palette images with Transparency expressed in bytes should be \"\n"
          ],
          "name": "stderr"
        },
        {
          "output_type": "stream",
          "text": [
            "[5/100][50/65]\tLoss_D: 2.2766\tLoss_G: 2.1422\tD(x): 0.3910\tD(G(z)): 0.5781 / 0.1248\n",
            "epoch: 6\n"
          ],
          "name": "stdout"
        },
        {
          "output_type": "stream",
          "text": [
            "/usr/local/lib/python3.6/dist-packages/PIL/Image.py:932: UserWarning: Palette images with Transparency expressed in bytes should be converted to RGBA images\n",
            "  \"Palette images with Transparency expressed in bytes should be \"\n"
          ],
          "name": "stderr"
        },
        {
          "output_type": "stream",
          "text": [
            "[6/100][0/65]\tLoss_D: 1.3046\tLoss_G: 1.5880\tD(x): 0.4608\tD(G(z)): 0.2686 / 0.2535\n"
          ],
          "name": "stdout"
        },
        {
          "output_type": "stream",
          "text": [
            "/usr/local/lib/python3.6/dist-packages/PIL/Image.py:932: UserWarning: Palette images with Transparency expressed in bytes should be converted to RGBA images\n",
            "  \"Palette images with Transparency expressed in bytes should be \"\n"
          ],
          "name": "stderr"
        },
        {
          "output_type": "stream",
          "text": [
            "[6/100][50/65]\tLoss_D: 1.3798\tLoss_G: 1.2391\tD(x): 0.3717\tD(G(z)): 0.2037 / 0.3091\n",
            "epoch: 7\n"
          ],
          "name": "stdout"
        },
        {
          "output_type": "stream",
          "text": [
            "/usr/local/lib/python3.6/dist-packages/PIL/Image.py:932: UserWarning: Palette images with Transparency expressed in bytes should be converted to RGBA images\n",
            "  \"Palette images with Transparency expressed in bytes should be \"\n",
            "/usr/local/lib/python3.6/dist-packages/PIL/Image.py:932: UserWarning: Palette images with Transparency expressed in bytes should be converted to RGBA images\n",
            "  \"Palette images with Transparency expressed in bytes should be \"\n"
          ],
          "name": "stderr"
        },
        {
          "output_type": "stream",
          "text": [
            "[7/100][0/65]\tLoss_D: 0.6123\tLoss_G: 2.6704\tD(x): 0.7574\tD(G(z)): 0.2506 / 0.0808\n",
            "[7/100][50/65]\tLoss_D: 0.4273\tLoss_G: 2.1075\tD(x): 0.8281\tD(G(z)): 0.1928 / 0.1411\n",
            "epoch: 8\n"
          ],
          "name": "stdout"
        },
        {
          "output_type": "stream",
          "text": [
            "/usr/local/lib/python3.6/dist-packages/PIL/Image.py:932: UserWarning: Palette images with Transparency expressed in bytes should be converted to RGBA images\n",
            "  \"Palette images with Transparency expressed in bytes should be \"\n"
          ],
          "name": "stderr"
        },
        {
          "output_type": "stream",
          "text": [
            "[8/100][0/65]\tLoss_D: 1.3542\tLoss_G: 3.2241\tD(x): 0.9812\tD(G(z)): 0.7001 / 0.0518\n"
          ],
          "name": "stdout"
        },
        {
          "output_type": "stream",
          "text": [
            "/usr/local/lib/python3.6/dist-packages/PIL/Image.py:932: UserWarning: Palette images with Transparency expressed in bytes should be converted to RGBA images\n",
            "  \"Palette images with Transparency expressed in bytes should be \"\n"
          ],
          "name": "stderr"
        },
        {
          "output_type": "stream",
          "text": [
            "[8/100][50/65]\tLoss_D: 1.1525\tLoss_G: 1.7965\tD(x): 0.6386\tD(G(z)): 0.4147 / 0.2012\n",
            "epoch: 9\n"
          ],
          "name": "stdout"
        },
        {
          "output_type": "stream",
          "text": [
            "/usr/local/lib/python3.6/dist-packages/PIL/Image.py:932: UserWarning: Palette images with Transparency expressed in bytes should be converted to RGBA images\n",
            "  \"Palette images with Transparency expressed in bytes should be \"\n",
            "/usr/local/lib/python3.6/dist-packages/PIL/Image.py:932: UserWarning: Palette images with Transparency expressed in bytes should be converted to RGBA images\n",
            "  \"Palette images with Transparency expressed in bytes should be \"\n"
          ],
          "name": "stderr"
        },
        {
          "output_type": "stream",
          "text": [
            "[9/100][0/65]\tLoss_D: 0.9504\tLoss_G: 3.7037\tD(x): 0.9389\tD(G(z)): 0.5338 / 0.0494\n",
            "[9/100][50/65]\tLoss_D: 0.7382\tLoss_G: 2.7608\tD(x): 0.6086\tD(G(z)): 0.1392 / 0.0789\n",
            "epoch: 10\n"
          ],
          "name": "stdout"
        },
        {
          "output_type": "stream",
          "text": [
            "/usr/local/lib/python3.6/dist-packages/PIL/Image.py:932: UserWarning: Palette images with Transparency expressed in bytes should be converted to RGBA images\n",
            "  \"Palette images with Transparency expressed in bytes should be \"\n"
          ],
          "name": "stderr"
        },
        {
          "output_type": "stream",
          "text": [
            "[10/100][0/65]\tLoss_D: 0.8522\tLoss_G: 2.2206\tD(x): 0.6163\tD(G(z)): 0.1423 / 0.1169\n"
          ],
          "name": "stdout"
        },
        {
          "output_type": "stream",
          "text": [
            "/usr/local/lib/python3.6/dist-packages/PIL/Image.py:932: UserWarning: Palette images with Transparency expressed in bytes should be converted to RGBA images\n",
            "  \"Palette images with Transparency expressed in bytes should be \"\n"
          ],
          "name": "stderr"
        },
        {
          "output_type": "stream",
          "text": [
            "[10/100][50/65]\tLoss_D: 0.6103\tLoss_G: 2.4283\tD(x): 0.8405\tD(G(z)): 0.3449 / 0.0925\n",
            "epoch: 11\n"
          ],
          "name": "stdout"
        },
        {
          "output_type": "stream",
          "text": [
            "/usr/local/lib/python3.6/dist-packages/PIL/Image.py:932: UserWarning: Palette images with Transparency expressed in bytes should be converted to RGBA images\n",
            "  \"Palette images with Transparency expressed in bytes should be \"\n",
            "/usr/local/lib/python3.6/dist-packages/PIL/Image.py:932: UserWarning: Palette images with Transparency expressed in bytes should be converted to RGBA images\n",
            "  \"Palette images with Transparency expressed in bytes should be \"\n"
          ],
          "name": "stderr"
        },
        {
          "output_type": "stream",
          "text": [
            "[11/100][0/65]\tLoss_D: 0.6067\tLoss_G: 2.6258\tD(x): 0.7619\tD(G(z)): 0.2551 / 0.0820\n",
            "[11/100][50/65]\tLoss_D: 1.5338\tLoss_G: 1.3120\tD(x): 0.3898\tD(G(z)): 0.1041 / 0.2813\n",
            "epoch: 12\n",
            "[12/100][0/65]\tLoss_D: 0.9899\tLoss_G: 2.5013\tD(x): 0.9136\tD(G(z)): 0.5238 / 0.0942\n"
          ],
          "name": "stdout"
        },
        {
          "output_type": "stream",
          "text": [
            "/usr/local/lib/python3.6/dist-packages/PIL/Image.py:932: UserWarning: Palette images with Transparency expressed in bytes should be converted to RGBA images\n",
            "  \"Palette images with Transparency expressed in bytes should be \"\n",
            "/usr/local/lib/python3.6/dist-packages/PIL/Image.py:932: UserWarning: Palette images with Transparency expressed in bytes should be converted to RGBA images\n",
            "  \"Palette images with Transparency expressed in bytes should be \"\n"
          ],
          "name": "stderr"
        },
        {
          "output_type": "stream",
          "text": [
            "[12/100][50/65]\tLoss_D: 1.7022\tLoss_G: 3.1379\tD(x): 0.8525\tD(G(z)): 0.7119 / 0.0471\n",
            "epoch: 13\n"
          ],
          "name": "stdout"
        },
        {
          "output_type": "stream",
          "text": [
            "/usr/local/lib/python3.6/dist-packages/PIL/Image.py:932: UserWarning: Palette images with Transparency expressed in bytes should be converted to RGBA images\n",
            "  \"Palette images with Transparency expressed in bytes should be \"\n",
            "/usr/local/lib/python3.6/dist-packages/PIL/Image.py:932: UserWarning: Palette images with Transparency expressed in bytes should be converted to RGBA images\n",
            "  \"Palette images with Transparency expressed in bytes should be \"\n"
          ],
          "name": "stderr"
        },
        {
          "output_type": "stream",
          "text": [
            "[13/100][0/65]\tLoss_D: 0.7970\tLoss_G: 1.9023\tD(x): 0.6033\tD(G(z)): 0.1720 / 0.1730\n",
            "[13/100][50/65]\tLoss_D: 1.2979\tLoss_G: 1.4510\tD(x): 0.4222\tD(G(z)): 0.1589 / 0.2568\n",
            "epoch: 14\n"
          ],
          "name": "stdout"
        },
        {
          "output_type": "stream",
          "text": [
            "/usr/local/lib/python3.6/dist-packages/PIL/Image.py:932: UserWarning: Palette images with Transparency expressed in bytes should be converted to RGBA images\n",
            "  \"Palette images with Transparency expressed in bytes should be \"\n",
            "/usr/local/lib/python3.6/dist-packages/PIL/Image.py:932: UserWarning: Palette images with Transparency expressed in bytes should be converted to RGBA images\n",
            "  \"Palette images with Transparency expressed in bytes should be \"\n"
          ],
          "name": "stderr"
        },
        {
          "output_type": "stream",
          "text": [
            "[14/100][0/65]\tLoss_D: 0.8792\tLoss_G: 3.0312\tD(x): 0.6980\tD(G(z)): 0.3507 / 0.0598\n",
            "[14/100][50/65]\tLoss_D: 0.7148\tLoss_G: 3.2899\tD(x): 0.7847\tD(G(z)): 0.3497 / 0.0475\n",
            "epoch: 15\n"
          ],
          "name": "stdout"
        },
        {
          "output_type": "stream",
          "text": [
            "/usr/local/lib/python3.6/dist-packages/PIL/Image.py:932: UserWarning: Palette images with Transparency expressed in bytes should be converted to RGBA images\n",
            "  \"Palette images with Transparency expressed in bytes should be \"\n"
          ],
          "name": "stderr"
        },
        {
          "output_type": "stream",
          "text": [
            "[15/100][0/65]\tLoss_D: 0.6003\tLoss_G: 3.2783\tD(x): 0.6144\tD(G(z)): 0.0491 / 0.0449\n"
          ],
          "name": "stdout"
        },
        {
          "output_type": "stream",
          "text": [
            "/usr/local/lib/python3.6/dist-packages/PIL/Image.py:932: UserWarning: Palette images with Transparency expressed in bytes should be converted to RGBA images\n",
            "  \"Palette images with Transparency expressed in bytes should be \"\n"
          ],
          "name": "stderr"
        },
        {
          "output_type": "stream",
          "text": [
            "[15/100][50/65]\tLoss_D: 0.5283\tLoss_G: 2.5775\tD(x): 0.8319\tD(G(z)): 0.2546 / 0.0929\n",
            "epoch: 16\n"
          ],
          "name": "stdout"
        },
        {
          "output_type": "stream",
          "text": [
            "/usr/local/lib/python3.6/dist-packages/PIL/Image.py:932: UserWarning: Palette images with Transparency expressed in bytes should be converted to RGBA images\n",
            "  \"Palette images with Transparency expressed in bytes should be \"\n"
          ],
          "name": "stderr"
        },
        {
          "output_type": "stream",
          "text": [
            "[16/100][0/65]\tLoss_D: 0.3313\tLoss_G: 2.9554\tD(x): 0.8408\tD(G(z)): 0.1355 / 0.0617\n"
          ],
          "name": "stdout"
        },
        {
          "output_type": "stream",
          "text": [
            "/usr/local/lib/python3.6/dist-packages/PIL/Image.py:932: UserWarning: Palette images with Transparency expressed in bytes should be converted to RGBA images\n",
            "  \"Palette images with Transparency expressed in bytes should be \"\n"
          ],
          "name": "stderr"
        },
        {
          "output_type": "stream",
          "text": [
            "[16/100][50/65]\tLoss_D: 0.4577\tLoss_G: 3.5359\tD(x): 0.7732\tD(G(z)): 0.1652 / 0.0332\n",
            "epoch: 17\n"
          ],
          "name": "stdout"
        },
        {
          "output_type": "stream",
          "text": [
            "/usr/local/lib/python3.6/dist-packages/PIL/Image.py:932: UserWarning: Palette images with Transparency expressed in bytes should be converted to RGBA images\n",
            "  \"Palette images with Transparency expressed in bytes should be \"\n",
            "/usr/local/lib/python3.6/dist-packages/PIL/Image.py:932: UserWarning: Palette images with Transparency expressed in bytes should be converted to RGBA images\n",
            "  \"Palette images with Transparency expressed in bytes should be \"\n"
          ],
          "name": "stderr"
        },
        {
          "output_type": "stream",
          "text": [
            "[17/100][0/65]\tLoss_D: 0.9587\tLoss_G: 1.5569\tD(x): 0.5274\tD(G(z)): 0.2035 / 0.2392\n",
            "[17/100][50/65]\tLoss_D: 0.8316\tLoss_G: 2.3213\tD(x): 0.6292\tD(G(z)): 0.2726 / 0.1122\n",
            "epoch: 18\n"
          ],
          "name": "stdout"
        },
        {
          "output_type": "stream",
          "text": [
            "/usr/local/lib/python3.6/dist-packages/PIL/Image.py:932: UserWarning: Palette images with Transparency expressed in bytes should be converted to RGBA images\n",
            "  \"Palette images with Transparency expressed in bytes should be \"\n"
          ],
          "name": "stderr"
        },
        {
          "output_type": "stream",
          "text": [
            "[18/100][0/65]\tLoss_D: 0.9924\tLoss_G: 1.9878\tD(x): 0.4272\tD(G(z)): 0.0818 / 0.1525\n"
          ],
          "name": "stdout"
        },
        {
          "output_type": "stream",
          "text": [
            "/usr/local/lib/python3.6/dist-packages/PIL/Image.py:932: UserWarning: Palette images with Transparency expressed in bytes should be converted to RGBA images\n",
            "  \"Palette images with Transparency expressed in bytes should be \"\n"
          ],
          "name": "stderr"
        },
        {
          "output_type": "stream",
          "text": [
            "[18/100][50/65]\tLoss_D: 0.7027\tLoss_G: 2.9656\tD(x): 0.7415\tD(G(z)): 0.2543 / 0.0594\n",
            "epoch: 19\n"
          ],
          "name": "stdout"
        },
        {
          "output_type": "stream",
          "text": [
            "/usr/local/lib/python3.6/dist-packages/PIL/Image.py:932: UserWarning: Palette images with Transparency expressed in bytes should be converted to RGBA images\n",
            "  \"Palette images with Transparency expressed in bytes should be \"\n",
            "/usr/local/lib/python3.6/dist-packages/PIL/Image.py:932: UserWarning: Palette images with Transparency expressed in bytes should be converted to RGBA images\n",
            "  \"Palette images with Transparency expressed in bytes should be \"\n"
          ],
          "name": "stderr"
        },
        {
          "output_type": "stream",
          "text": [
            "[19/100][0/65]\tLoss_D: 0.7352\tLoss_G: 2.8301\tD(x): 0.6782\tD(G(z)): 0.2281 / 0.0775\n",
            "[19/100][50/65]\tLoss_D: 1.0097\tLoss_G: 2.1712\tD(x): 0.5594\tD(G(z)): 0.2790 / 0.1444\n",
            "epoch: 20\n"
          ],
          "name": "stdout"
        },
        {
          "output_type": "stream",
          "text": [
            "/usr/local/lib/python3.6/dist-packages/PIL/Image.py:932: UserWarning: Palette images with Transparency expressed in bytes should be converted to RGBA images\n",
            "  \"Palette images with Transparency expressed in bytes should be \"\n"
          ],
          "name": "stderr"
        },
        {
          "output_type": "stream",
          "text": [
            "[20/100][0/65]\tLoss_D: 0.6526\tLoss_G: 3.5629\tD(x): 0.8144\tD(G(z)): 0.3433 / 0.0308\n"
          ],
          "name": "stdout"
        },
        {
          "output_type": "stream",
          "text": [
            "/usr/local/lib/python3.6/dist-packages/PIL/Image.py:932: UserWarning: Palette images with Transparency expressed in bytes should be converted to RGBA images\n",
            "  \"Palette images with Transparency expressed in bytes should be \"\n"
          ],
          "name": "stderr"
        },
        {
          "output_type": "stream",
          "text": [
            "[20/100][50/65]\tLoss_D: 1.1770\tLoss_G: 3.5702\tD(x): 0.7612\tD(G(z)): 0.5062 / 0.0376\n",
            "epoch: 21\n"
          ],
          "name": "stdout"
        },
        {
          "output_type": "stream",
          "text": [
            "/usr/local/lib/python3.6/dist-packages/PIL/Image.py:932: UserWarning: Palette images with Transparency expressed in bytes should be converted to RGBA images\n",
            "  \"Palette images with Transparency expressed in bytes should be \"\n"
          ],
          "name": "stderr"
        },
        {
          "output_type": "stream",
          "text": [
            "[21/100][0/65]\tLoss_D: 0.8187\tLoss_G: 3.1444\tD(x): 0.5651\tD(G(z)): 0.1656 / 0.0528\n"
          ],
          "name": "stdout"
        },
        {
          "output_type": "stream",
          "text": [
            "/usr/local/lib/python3.6/dist-packages/PIL/Image.py:932: UserWarning: Palette images with Transparency expressed in bytes should be converted to RGBA images\n",
            "  \"Palette images with Transparency expressed in bytes should be \"\n"
          ],
          "name": "stderr"
        },
        {
          "output_type": "stream",
          "text": [
            "[21/100][50/65]\tLoss_D: 0.3789\tLoss_G: 3.0153\tD(x): 0.8129\tD(G(z)): 0.1451 / 0.0650\n",
            "epoch: 22\n"
          ],
          "name": "stdout"
        },
        {
          "output_type": "stream",
          "text": [
            "/usr/local/lib/python3.6/dist-packages/PIL/Image.py:932: UserWarning: Palette images with Transparency expressed in bytes should be converted to RGBA images\n",
            "  \"Palette images with Transparency expressed in bytes should be \"\n"
          ],
          "name": "stderr"
        },
        {
          "output_type": "stream",
          "text": [
            "[22/100][0/65]\tLoss_D: 0.3406\tLoss_G: 3.8349\tD(x): 0.8671\tD(G(z)): 0.1675 / 0.0246\n"
          ],
          "name": "stdout"
        },
        {
          "output_type": "stream",
          "text": [
            "/usr/local/lib/python3.6/dist-packages/PIL/Image.py:932: UserWarning: Palette images with Transparency expressed in bytes should be converted to RGBA images\n",
            "  \"Palette images with Transparency expressed in bytes should be \"\n"
          ],
          "name": "stderr"
        },
        {
          "output_type": "stream",
          "text": [
            "[22/100][50/65]\tLoss_D: 0.1817\tLoss_G: 5.1678\tD(x): 0.8813\tD(G(z)): 0.0477 / 0.0096\n",
            "epoch: 23\n"
          ],
          "name": "stdout"
        },
        {
          "output_type": "stream",
          "text": [
            "/usr/local/lib/python3.6/dist-packages/PIL/Image.py:932: UserWarning: Palette images with Transparency expressed in bytes should be converted to RGBA images\n",
            "  \"Palette images with Transparency expressed in bytes should be \"\n"
          ],
          "name": "stderr"
        },
        {
          "output_type": "stream",
          "text": [
            "[23/100][0/65]\tLoss_D: 0.6365\tLoss_G: 4.5929\tD(x): 0.9169\tD(G(z)): 0.4077 / 0.0128\n"
          ],
          "name": "stdout"
        },
        {
          "output_type": "stream",
          "text": [
            "/usr/local/lib/python3.6/dist-packages/PIL/Image.py:932: UserWarning: Palette images with Transparency expressed in bytes should be converted to RGBA images\n",
            "  \"Palette images with Transparency expressed in bytes should be \"\n"
          ],
          "name": "stderr"
        },
        {
          "output_type": "stream",
          "text": [
            "[23/100][50/65]\tLoss_D: 0.2633\tLoss_G: 3.8077\tD(x): 0.9762\tD(G(z)): 0.2054 / 0.0266\n",
            "epoch: 24\n",
            "[24/100][0/65]\tLoss_D: 0.3787\tLoss_G: 2.0494\tD(x): 0.7971\tD(G(z)): 0.1068 / 0.1734\n"
          ],
          "name": "stdout"
        },
        {
          "output_type": "stream",
          "text": [
            "/usr/local/lib/python3.6/dist-packages/PIL/Image.py:932: UserWarning: Palette images with Transparency expressed in bytes should be converted to RGBA images\n",
            "  \"Palette images with Transparency expressed in bytes should be \"\n",
            "/usr/local/lib/python3.6/dist-packages/PIL/Image.py:932: UserWarning: Palette images with Transparency expressed in bytes should be converted to RGBA images\n",
            "  \"Palette images with Transparency expressed in bytes should be \"\n"
          ],
          "name": "stderr"
        },
        {
          "output_type": "stream",
          "text": [
            "[24/100][50/65]\tLoss_D: 0.6716\tLoss_G: 3.8584\tD(x): 0.9240\tD(G(z)): 0.4232 / 0.0248\n",
            "epoch: 25\n"
          ],
          "name": "stdout"
        },
        {
          "output_type": "stream",
          "text": [
            "/usr/local/lib/python3.6/dist-packages/PIL/Image.py:932: UserWarning: Palette images with Transparency expressed in bytes should be converted to RGBA images\n",
            "  \"Palette images with Transparency expressed in bytes should be \"\n"
          ],
          "name": "stderr"
        },
        {
          "output_type": "stream",
          "text": [
            "[25/100][0/65]\tLoss_D: 0.4216\tLoss_G: 3.4224\tD(x): 0.9666\tD(G(z)): 0.2990 / 0.0388\n"
          ],
          "name": "stdout"
        },
        {
          "output_type": "stream",
          "text": [
            "/usr/local/lib/python3.6/dist-packages/PIL/Image.py:932: UserWarning: Palette images with Transparency expressed in bytes should be converted to RGBA images\n",
            "  \"Palette images with Transparency expressed in bytes should be \"\n"
          ],
          "name": "stderr"
        },
        {
          "output_type": "stream",
          "text": [
            "[25/100][50/65]\tLoss_D: 0.6198\tLoss_G: 4.6805\tD(x): 0.9429\tD(G(z)): 0.3823 / 0.0139\n",
            "epoch: 26\n"
          ],
          "name": "stdout"
        },
        {
          "output_type": "stream",
          "text": [
            "/usr/local/lib/python3.6/dist-packages/PIL/Image.py:932: UserWarning: Palette images with Transparency expressed in bytes should be converted to RGBA images\n",
            "  \"Palette images with Transparency expressed in bytes should be \"\n"
          ],
          "name": "stderr"
        },
        {
          "output_type": "stream",
          "text": [
            "[26/100][0/65]\tLoss_D: 0.4401\tLoss_G: 3.5732\tD(x): 0.7486\tD(G(z)): 0.1258 / 0.0413\n"
          ],
          "name": "stdout"
        },
        {
          "output_type": "stream",
          "text": [
            "/usr/local/lib/python3.6/dist-packages/PIL/Image.py:932: UserWarning: Palette images with Transparency expressed in bytes should be converted to RGBA images\n",
            "  \"Palette images with Transparency expressed in bytes should be \"\n"
          ],
          "name": "stderr"
        },
        {
          "output_type": "stream",
          "text": [
            "[26/100][50/65]\tLoss_D: 0.0844\tLoss_G: 5.6332\tD(x): 0.9720\tD(G(z)): 0.0527 / 0.0059\n",
            "epoch: 27\n"
          ],
          "name": "stdout"
        },
        {
          "output_type": "stream",
          "text": [
            "/usr/local/lib/python3.6/dist-packages/PIL/Image.py:932: UserWarning: Palette images with Transparency expressed in bytes should be converted to RGBA images\n",
            "  \"Palette images with Transparency expressed in bytes should be \"\n"
          ],
          "name": "stderr"
        },
        {
          "output_type": "stream",
          "text": [
            "[27/100][0/65]\tLoss_D: 0.0861\tLoss_G: 4.8614\tD(x): 0.9469\tD(G(z)): 0.0248 / 0.0089\n"
          ],
          "name": "stdout"
        },
        {
          "output_type": "stream",
          "text": [
            "/usr/local/lib/python3.6/dist-packages/PIL/Image.py:932: UserWarning: Palette images with Transparency expressed in bytes should be converted to RGBA images\n",
            "  \"Palette images with Transparency expressed in bytes should be \"\n"
          ],
          "name": "stderr"
        },
        {
          "output_type": "stream",
          "text": [
            "[27/100][50/65]\tLoss_D: 0.4176\tLoss_G: 2.6779\tD(x): 0.7226\tD(G(z)): 0.0549 / 0.0918\n",
            "epoch: 28\n"
          ],
          "name": "stdout"
        },
        {
          "output_type": "stream",
          "text": [
            "/usr/local/lib/python3.6/dist-packages/PIL/Image.py:932: UserWarning: Palette images with Transparency expressed in bytes should be converted to RGBA images\n",
            "  \"Palette images with Transparency expressed in bytes should be \"\n",
            "/usr/local/lib/python3.6/dist-packages/PIL/Image.py:932: UserWarning: Palette images with Transparency expressed in bytes should be converted to RGBA images\n",
            "  \"Palette images with Transparency expressed in bytes should be \"\n"
          ],
          "name": "stderr"
        },
        {
          "output_type": "stream",
          "text": [
            "[28/100][0/65]\tLoss_D: 0.4400\tLoss_G: 2.4650\tD(x): 0.7090\tD(G(z)): 0.0779 / 0.1119\n",
            "[28/100][50/65]\tLoss_D: 0.3160\tLoss_G: 4.3424\tD(x): 0.9257\tD(G(z)): 0.1949 / 0.0169\n",
            "epoch: 29\n",
            "[29/100][0/65]\tLoss_D: 0.2497\tLoss_G: 4.6325\tD(x): 0.8082\tD(G(z)): 0.0180 / 0.0191\n"
          ],
          "name": "stdout"
        },
        {
          "output_type": "stream",
          "text": [
            "/usr/local/lib/python3.6/dist-packages/PIL/Image.py:932: UserWarning: Palette images with Transparency expressed in bytes should be converted to RGBA images\n",
            "  \"Palette images with Transparency expressed in bytes should be \"\n",
            "/usr/local/lib/python3.6/dist-packages/PIL/Image.py:932: UserWarning: Palette images with Transparency expressed in bytes should be converted to RGBA images\n",
            "  \"Palette images with Transparency expressed in bytes should be \"\n"
          ],
          "name": "stderr"
        },
        {
          "output_type": "stream",
          "text": [
            "[29/100][50/65]\tLoss_D: 0.4376\tLoss_G: 4.0872\tD(x): 0.8616\tD(G(z)): 0.2143 / 0.0192\n",
            "epoch: 30\n"
          ],
          "name": "stdout"
        },
        {
          "output_type": "stream",
          "text": [
            "/usr/local/lib/python3.6/dist-packages/PIL/Image.py:932: UserWarning: Palette images with Transparency expressed in bytes should be converted to RGBA images\n",
            "  \"Palette images with Transparency expressed in bytes should be \"\n",
            "/usr/local/lib/python3.6/dist-packages/PIL/Image.py:932: UserWarning: Palette images with Transparency expressed in bytes should be converted to RGBA images\n",
            "  \"Palette images with Transparency expressed in bytes should be \"\n"
          ],
          "name": "stderr"
        },
        {
          "output_type": "stream",
          "text": [
            "[30/100][0/65]\tLoss_D: 0.5485\tLoss_G: 4.3399\tD(x): 0.9315\tD(G(z)): 0.3604 / 0.0134\n",
            "[30/100][50/65]\tLoss_D: 0.3504\tLoss_G: 3.7181\tD(x): 0.8017\tD(G(z)): 0.1006 / 0.0279\n",
            "epoch: 31\n"
          ],
          "name": "stdout"
        },
        {
          "output_type": "stream",
          "text": [
            "/usr/local/lib/python3.6/dist-packages/PIL/Image.py:932: UserWarning: Palette images with Transparency expressed in bytes should be converted to RGBA images\n",
            "  \"Palette images with Transparency expressed in bytes should be \"\n",
            "/usr/local/lib/python3.6/dist-packages/PIL/Image.py:932: UserWarning: Palette images with Transparency expressed in bytes should be converted to RGBA images\n",
            "  \"Palette images with Transparency expressed in bytes should be \"\n"
          ],
          "name": "stderr"
        },
        {
          "output_type": "stream",
          "text": [
            "[31/100][0/65]\tLoss_D: 0.5653\tLoss_G: 1.9797\tD(x): 0.6711\tD(G(z)): 0.0545 / 0.1873\n",
            "[31/100][50/65]\tLoss_D: 0.4720\tLoss_G: 3.1670\tD(x): 0.7035\tD(G(z)): 0.0623 / 0.0857\n",
            "epoch: 32\n"
          ],
          "name": "stdout"
        },
        {
          "output_type": "stream",
          "text": [
            "/usr/local/lib/python3.6/dist-packages/PIL/Image.py:932: UserWarning: Palette images with Transparency expressed in bytes should be converted to RGBA images\n",
            "  \"Palette images with Transparency expressed in bytes should be \"\n"
          ],
          "name": "stderr"
        },
        {
          "output_type": "stream",
          "text": [
            "[32/100][0/65]\tLoss_D: 0.2314\tLoss_G: 5.5852\tD(x): 0.9905\tD(G(z)): 0.1756 / 0.0041\n"
          ],
          "name": "stdout"
        },
        {
          "output_type": "stream",
          "text": [
            "/usr/local/lib/python3.6/dist-packages/PIL/Image.py:932: UserWarning: Palette images with Transparency expressed in bytes should be converted to RGBA images\n",
            "  \"Palette images with Transparency expressed in bytes should be \"\n"
          ],
          "name": "stderr"
        },
        {
          "output_type": "stream",
          "text": [
            "[32/100][50/65]\tLoss_D: 0.6627\tLoss_G: 5.6361\tD(x): 0.9503\tD(G(z)): 0.3903 / 0.0055\n",
            "epoch: 33\n"
          ],
          "name": "stdout"
        },
        {
          "output_type": "stream",
          "text": [
            "/usr/local/lib/python3.6/dist-packages/PIL/Image.py:932: UserWarning: Palette images with Transparency expressed in bytes should be converted to RGBA images\n",
            "  \"Palette images with Transparency expressed in bytes should be \"\n",
            "/usr/local/lib/python3.6/dist-packages/PIL/Image.py:932: UserWarning: Palette images with Transparency expressed in bytes should be converted to RGBA images\n",
            "  \"Palette images with Transparency expressed in bytes should be \"\n"
          ],
          "name": "stderr"
        },
        {
          "output_type": "stream",
          "text": [
            "[33/100][0/65]\tLoss_D: 0.1939\tLoss_G: 5.0879\tD(x): 0.9473\tD(G(z)): 0.1268 / 0.0072\n",
            "[33/100][50/65]\tLoss_D: 0.4106\tLoss_G: 5.2138\tD(x): 0.9829\tD(G(z)): 0.2881 / 0.0070\n",
            "epoch: 34\n"
          ],
          "name": "stdout"
        },
        {
          "output_type": "stream",
          "text": [
            "/usr/local/lib/python3.6/dist-packages/PIL/Image.py:932: UserWarning: Palette images with Transparency expressed in bytes should be converted to RGBA images\n",
            "  \"Palette images with Transparency expressed in bytes should be \"\n"
          ],
          "name": "stderr"
        },
        {
          "output_type": "stream",
          "text": [
            "[34/100][0/65]\tLoss_D: 0.1710\tLoss_G: 5.1637\tD(x): 0.9913\tD(G(z)): 0.1344 / 0.0100\n"
          ],
          "name": "stdout"
        },
        {
          "output_type": "stream",
          "text": [
            "/usr/local/lib/python3.6/dist-packages/PIL/Image.py:932: UserWarning: Palette images with Transparency expressed in bytes should be converted to RGBA images\n",
            "  \"Palette images with Transparency expressed in bytes should be \"\n"
          ],
          "name": "stderr"
        },
        {
          "output_type": "stream",
          "text": [
            "[34/100][50/65]\tLoss_D: 0.2243\tLoss_G: 4.3561\tD(x): 0.8397\tD(G(z)): 0.0415 / 0.0230\n",
            "epoch: 35\n"
          ],
          "name": "stdout"
        },
        {
          "output_type": "stream",
          "text": [
            "/usr/local/lib/python3.6/dist-packages/PIL/Image.py:932: UserWarning: Palette images with Transparency expressed in bytes should be converted to RGBA images\n",
            "  \"Palette images with Transparency expressed in bytes should be \"\n"
          ],
          "name": "stderr"
        },
        {
          "output_type": "stream",
          "text": [
            "[35/100][0/65]\tLoss_D: 0.4328\tLoss_G: 5.5894\tD(x): 0.9777\tD(G(z)): 0.2637 / 0.0043\n"
          ],
          "name": "stdout"
        },
        {
          "output_type": "stream",
          "text": [
            "/usr/local/lib/python3.6/dist-packages/PIL/Image.py:932: UserWarning: Palette images with Transparency expressed in bytes should be converted to RGBA images\n",
            "  \"Palette images with Transparency expressed in bytes should be \"\n"
          ],
          "name": "stderr"
        },
        {
          "output_type": "stream",
          "text": [
            "[35/100][50/65]\tLoss_D: 0.3484\tLoss_G: 2.5622\tD(x): 0.8227\tD(G(z)): 0.1141 / 0.0895\n",
            "epoch: 36\n"
          ],
          "name": "stdout"
        },
        {
          "output_type": "stream",
          "text": [
            "/usr/local/lib/python3.6/dist-packages/PIL/Image.py:932: UserWarning: Palette images with Transparency expressed in bytes should be converted to RGBA images\n",
            "  \"Palette images with Transparency expressed in bytes should be \"\n",
            "/usr/local/lib/python3.6/dist-packages/PIL/Image.py:932: UserWarning: Palette images with Transparency expressed in bytes should be converted to RGBA images\n",
            "  \"Palette images with Transparency expressed in bytes should be \"\n"
          ],
          "name": "stderr"
        },
        {
          "output_type": "stream",
          "text": [
            "[36/100][0/65]\tLoss_D: 0.0914\tLoss_G: 4.3097\tD(x): 0.9812\tD(G(z)): 0.0684 / 0.0150\n",
            "[36/100][50/65]\tLoss_D: 0.5116\tLoss_G: 3.7565\tD(x): 0.6469\tD(G(z)): 0.0143 / 0.0452\n",
            "epoch: 37\n",
            "[37/100][0/65]\tLoss_D: 0.1422\tLoss_G: 3.3917\tD(x): 0.9190\tD(G(z)): 0.0464 / 0.0441\n"
          ],
          "name": "stdout"
        },
        {
          "output_type": "stream",
          "text": [
            "/usr/local/lib/python3.6/dist-packages/PIL/Image.py:932: UserWarning: Palette images with Transparency expressed in bytes should be converted to RGBA images\n",
            "  \"Palette images with Transparency expressed in bytes should be \"\n",
            "/usr/local/lib/python3.6/dist-packages/PIL/Image.py:932: UserWarning: Palette images with Transparency expressed in bytes should be converted to RGBA images\n",
            "  \"Palette images with Transparency expressed in bytes should be \"\n"
          ],
          "name": "stderr"
        },
        {
          "output_type": "stream",
          "text": [
            "[37/100][50/65]\tLoss_D: 0.1493\tLoss_G: 6.0325\tD(x): 0.8776\tD(G(z)): 0.0098 / 0.0043\n",
            "epoch: 38\n"
          ],
          "name": "stdout"
        },
        {
          "output_type": "stream",
          "text": [
            "/usr/local/lib/python3.6/dist-packages/PIL/Image.py:932: UserWarning: Palette images with Transparency expressed in bytes should be converted to RGBA images\n",
            "  \"Palette images with Transparency expressed in bytes should be \"\n"
          ],
          "name": "stderr"
        },
        {
          "output_type": "stream",
          "text": [
            "[38/100][0/65]\tLoss_D: 0.2570\tLoss_G: 3.5196\tD(x): 0.8948\tD(G(z)): 0.1164 / 0.0394\n"
          ],
          "name": "stdout"
        },
        {
          "output_type": "stream",
          "text": [
            "/usr/local/lib/python3.6/dist-packages/PIL/Image.py:932: UserWarning: Palette images with Transparency expressed in bytes should be converted to RGBA images\n",
            "  \"Palette images with Transparency expressed in bytes should be \"\n"
          ],
          "name": "stderr"
        },
        {
          "output_type": "stream",
          "text": [
            "[38/100][50/65]\tLoss_D: 0.3933\tLoss_G: 5.8090\tD(x): 0.9778\tD(G(z)): 0.2602 / 0.0040\n",
            "epoch: 39\n"
          ],
          "name": "stdout"
        },
        {
          "output_type": "stream",
          "text": [
            "/usr/local/lib/python3.6/dist-packages/PIL/Image.py:932: UserWarning: Palette images with Transparency expressed in bytes should be converted to RGBA images\n",
            "  \"Palette images with Transparency expressed in bytes should be \"\n",
            "/usr/local/lib/python3.6/dist-packages/PIL/Image.py:932: UserWarning: Palette images with Transparency expressed in bytes should be converted to RGBA images\n",
            "  \"Palette images with Transparency expressed in bytes should be \"\n"
          ],
          "name": "stderr"
        },
        {
          "output_type": "stream",
          "text": [
            "[39/100][0/65]\tLoss_D: 0.2479\tLoss_G: 3.4262\tD(x): 0.9045\tD(G(z)): 0.1273 / 0.0432\n",
            "[39/100][50/65]\tLoss_D: 0.2129\tLoss_G: 4.3400\tD(x): 0.8683\tD(G(z)): 0.0630 / 0.0150\n",
            "epoch: 40\n"
          ],
          "name": "stdout"
        },
        {
          "output_type": "stream",
          "text": [
            "/usr/local/lib/python3.6/dist-packages/PIL/Image.py:932: UserWarning: Palette images with Transparency expressed in bytes should be converted to RGBA images\n",
            "  \"Palette images with Transparency expressed in bytes should be \"\n",
            "/usr/local/lib/python3.6/dist-packages/PIL/Image.py:932: UserWarning: Palette images with Transparency expressed in bytes should be converted to RGBA images\n",
            "  \"Palette images with Transparency expressed in bytes should be \"\n"
          ],
          "name": "stderr"
        },
        {
          "output_type": "stream",
          "text": [
            "[40/100][0/65]\tLoss_D: 0.4920\tLoss_G: 5.4840\tD(x): 0.9866\tD(G(z)): 0.3284 / 0.0057\n",
            "[40/100][50/65]\tLoss_D: 0.7282\tLoss_G: 5.6077\tD(x): 0.9441\tD(G(z)): 0.4196 / 0.0054\n",
            "epoch: 41\n",
            "[41/100][0/65]\tLoss_D: 0.1829\tLoss_G: 5.6777\tD(x): 0.9825\tD(G(z)): 0.1440 / 0.0037\n"
          ],
          "name": "stdout"
        },
        {
          "output_type": "stream",
          "text": [
            "/usr/local/lib/python3.6/dist-packages/PIL/Image.py:932: UserWarning: Palette images with Transparency expressed in bytes should be converted to RGBA images\n",
            "  \"Palette images with Transparency expressed in bytes should be \"\n",
            "/usr/local/lib/python3.6/dist-packages/PIL/Image.py:932: UserWarning: Palette images with Transparency expressed in bytes should be converted to RGBA images\n",
            "  \"Palette images with Transparency expressed in bytes should be \"\n"
          ],
          "name": "stderr"
        },
        {
          "output_type": "stream",
          "text": [
            "[41/100][50/65]\tLoss_D: 0.4639\tLoss_G: 6.7663\tD(x): 0.9343\tD(G(z)): 0.2688 / 0.0014\n",
            "epoch: 42\n"
          ],
          "name": "stdout"
        },
        {
          "output_type": "stream",
          "text": [
            "/usr/local/lib/python3.6/dist-packages/PIL/Image.py:932: UserWarning: Palette images with Transparency expressed in bytes should be converted to RGBA images\n",
            "  \"Palette images with Transparency expressed in bytes should be \"\n"
          ],
          "name": "stderr"
        },
        {
          "output_type": "stream",
          "text": [
            "[42/100][0/65]\tLoss_D: 0.1202\tLoss_G: 4.5936\tD(x): 0.9963\tD(G(z)): 0.1065 / 0.0125\n"
          ],
          "name": "stdout"
        },
        {
          "output_type": "stream",
          "text": [
            "/usr/local/lib/python3.6/dist-packages/PIL/Image.py:932: UserWarning: Palette images with Transparency expressed in bytes should be converted to RGBA images\n",
            "  \"Palette images with Transparency expressed in bytes should be \"\n"
          ],
          "name": "stderr"
        },
        {
          "output_type": "stream",
          "text": [
            "[42/100][50/65]\tLoss_D: 0.4038\tLoss_G: 4.9764\tD(x): 0.9915\tD(G(z)): 0.2835 / 0.0077\n",
            "epoch: 43\n"
          ],
          "name": "stdout"
        },
        {
          "output_type": "stream",
          "text": [
            "/usr/local/lib/python3.6/dist-packages/PIL/Image.py:932: UserWarning: Palette images with Transparency expressed in bytes should be converted to RGBA images\n",
            "  \"Palette images with Transparency expressed in bytes should be \"\n",
            "/usr/local/lib/python3.6/dist-packages/PIL/Image.py:932: UserWarning: Palette images with Transparency expressed in bytes should be converted to RGBA images\n",
            "  \"Palette images with Transparency expressed in bytes should be \"\n"
          ],
          "name": "stderr"
        },
        {
          "output_type": "stream",
          "text": [
            "[43/100][0/65]\tLoss_D: 0.2952\tLoss_G: 3.0977\tD(x): 0.9154\tD(G(z)): 0.1550 / 0.0617\n",
            "[43/100][50/65]\tLoss_D: 0.2498\tLoss_G: 3.1174\tD(x): 0.8960\tD(G(z)): 0.1180 / 0.0625\n",
            "epoch: 44\n"
          ],
          "name": "stdout"
        },
        {
          "output_type": "stream",
          "text": [
            "/usr/local/lib/python3.6/dist-packages/PIL/Image.py:932: UserWarning: Palette images with Transparency expressed in bytes should be converted to RGBA images\n",
            "  \"Palette images with Transparency expressed in bytes should be \"\n"
          ],
          "name": "stderr"
        },
        {
          "output_type": "stream",
          "text": [
            "[44/100][0/65]\tLoss_D: 0.1986\tLoss_G: 5.1121\tD(x): 0.9929\tD(G(z)): 0.1527 / 0.0078\n"
          ],
          "name": "stdout"
        },
        {
          "output_type": "stream",
          "text": [
            "/usr/local/lib/python3.6/dist-packages/PIL/Image.py:932: UserWarning: Palette images with Transparency expressed in bytes should be converted to RGBA images\n",
            "  \"Palette images with Transparency expressed in bytes should be \"\n"
          ],
          "name": "stderr"
        },
        {
          "output_type": "stream",
          "text": [
            "[44/100][50/65]\tLoss_D: 0.1962\tLoss_G: 5.6101\tD(x): 0.9807\tD(G(z)): 0.1509 / 0.0041\n",
            "epoch: 45\n"
          ],
          "name": "stdout"
        },
        {
          "output_type": "stream",
          "text": [
            "/usr/local/lib/python3.6/dist-packages/PIL/Image.py:932: UserWarning: Palette images with Transparency expressed in bytes should be converted to RGBA images\n",
            "  \"Palette images with Transparency expressed in bytes should be \"\n"
          ],
          "name": "stderr"
        },
        {
          "output_type": "stream",
          "text": [
            "[45/100][0/65]\tLoss_D: 0.0564\tLoss_G: 5.4957\tD(x): 0.9669\tD(G(z)): 0.0218 / 0.0060\n"
          ],
          "name": "stdout"
        },
        {
          "output_type": "stream",
          "text": [
            "/usr/local/lib/python3.6/dist-packages/PIL/Image.py:932: UserWarning: Palette images with Transparency expressed in bytes should be converted to RGBA images\n",
            "  \"Palette images with Transparency expressed in bytes should be \"\n"
          ],
          "name": "stderr"
        },
        {
          "output_type": "stream",
          "text": [
            "[45/100][50/65]\tLoss_D: 0.2983\tLoss_G: 6.6954\tD(x): 0.9965\tD(G(z)): 0.2408 / 0.0029\n",
            "epoch: 46\n"
          ],
          "name": "stdout"
        },
        {
          "output_type": "stream",
          "text": [
            "/usr/local/lib/python3.6/dist-packages/PIL/Image.py:932: UserWarning: Palette images with Transparency expressed in bytes should be converted to RGBA images\n",
            "  \"Palette images with Transparency expressed in bytes should be \"\n"
          ],
          "name": "stderr"
        },
        {
          "output_type": "stream",
          "text": [
            "[46/100][0/65]\tLoss_D: 0.1070\tLoss_G: 5.2680\tD(x): 0.9861\tD(G(z)): 0.0788 / 0.0059\n"
          ],
          "name": "stdout"
        },
        {
          "output_type": "stream",
          "text": [
            "/usr/local/lib/python3.6/dist-packages/PIL/Image.py:932: UserWarning: Palette images with Transparency expressed in bytes should be converted to RGBA images\n",
            "  \"Palette images with Transparency expressed in bytes should be \"\n"
          ],
          "name": "stderr"
        },
        {
          "output_type": "stream",
          "text": [
            "[46/100][50/65]\tLoss_D: 0.1113\tLoss_G: 5.2196\tD(x): 0.9080\tD(G(z)): 0.0099 / 0.0084\n",
            "epoch: 47\n"
          ],
          "name": "stdout"
        },
        {
          "output_type": "stream",
          "text": [
            "/usr/local/lib/python3.6/dist-packages/PIL/Image.py:932: UserWarning: Palette images with Transparency expressed in bytes should be converted to RGBA images\n",
            "  \"Palette images with Transparency expressed in bytes should be \"\n"
          ],
          "name": "stderr"
        },
        {
          "output_type": "stream",
          "text": [
            "[47/100][0/65]\tLoss_D: 0.2322\tLoss_G: 5.3648\tD(x): 0.9543\tD(G(z)): 0.1472 / 0.0059\n"
          ],
          "name": "stdout"
        },
        {
          "output_type": "stream",
          "text": [
            "/usr/local/lib/python3.6/dist-packages/PIL/Image.py:932: UserWarning: Palette images with Transparency expressed in bytes should be converted to RGBA images\n",
            "  \"Palette images with Transparency expressed in bytes should be \"\n"
          ],
          "name": "stderr"
        },
        {
          "output_type": "stream",
          "text": [
            "[47/100][50/65]\tLoss_D: 0.0624\tLoss_G: 7.2264\tD(x): 0.9511\tD(G(z)): 0.0112 / 0.0013\n",
            "epoch: 48\n"
          ],
          "name": "stdout"
        },
        {
          "output_type": "stream",
          "text": [
            "/usr/local/lib/python3.6/dist-packages/PIL/Image.py:932: UserWarning: Palette images with Transparency expressed in bytes should be converted to RGBA images\n",
            "  \"Palette images with Transparency expressed in bytes should be \"\n"
          ],
          "name": "stderr"
        },
        {
          "output_type": "stream",
          "text": [
            "[48/100][0/65]\tLoss_D: 0.2503\tLoss_G: 2.9464\tD(x): 0.8229\tD(G(z)): 0.0359 / 0.0705\n"
          ],
          "name": "stdout"
        },
        {
          "output_type": "stream",
          "text": [
            "/usr/local/lib/python3.6/dist-packages/PIL/Image.py:932: UserWarning: Palette images with Transparency expressed in bytes should be converted to RGBA images\n",
            "  \"Palette images with Transparency expressed in bytes should be \"\n"
          ],
          "name": "stderr"
        },
        {
          "output_type": "stream",
          "text": [
            "[48/100][50/65]\tLoss_D: 0.0546\tLoss_G: 4.5314\tD(x): 0.9706\tD(G(z)): 0.0238 / 0.0143\n",
            "epoch: 49\n"
          ],
          "name": "stdout"
        },
        {
          "output_type": "stream",
          "text": [
            "/usr/local/lib/python3.6/dist-packages/PIL/Image.py:932: UserWarning: Palette images with Transparency expressed in bytes should be converted to RGBA images\n",
            "  \"Palette images with Transparency expressed in bytes should be \"\n"
          ],
          "name": "stderr"
        },
        {
          "output_type": "stream",
          "text": [
            "[49/100][0/65]\tLoss_D: 0.0324\tLoss_G: 4.0429\tD(x): 0.9949\tD(G(z)): 0.0267 / 0.0241\n"
          ],
          "name": "stdout"
        },
        {
          "output_type": "stream",
          "text": [
            "/usr/local/lib/python3.6/dist-packages/PIL/Image.py:932: UserWarning: Palette images with Transparency expressed in bytes should be converted to RGBA images\n",
            "  \"Palette images with Transparency expressed in bytes should be \"\n"
          ],
          "name": "stderr"
        },
        {
          "output_type": "stream",
          "text": [
            "[49/100][50/65]\tLoss_D: 0.1295\tLoss_G: 4.7613\tD(x): 0.8951\tD(G(z)): 0.0092 / 0.0133\n",
            "epoch: 50\n"
          ],
          "name": "stdout"
        },
        {
          "output_type": "stream",
          "text": [
            "/usr/local/lib/python3.6/dist-packages/PIL/Image.py:932: UserWarning: Palette images with Transparency expressed in bytes should be converted to RGBA images\n",
            "  \"Palette images with Transparency expressed in bytes should be \"\n"
          ],
          "name": "stderr"
        },
        {
          "output_type": "stream",
          "text": [
            "[50/100][0/65]\tLoss_D: 0.5602\tLoss_G: 3.1576\tD(x): 0.6747\tD(G(z)): 0.0156 / 0.0618\n"
          ],
          "name": "stdout"
        },
        {
          "output_type": "stream",
          "text": [
            "/usr/local/lib/python3.6/dist-packages/PIL/Image.py:932: UserWarning: Palette images with Transparency expressed in bytes should be converted to RGBA images\n",
            "  \"Palette images with Transparency expressed in bytes should be \"\n"
          ],
          "name": "stderr"
        },
        {
          "output_type": "stream",
          "text": [
            "[50/100][50/65]\tLoss_D: 0.1449\tLoss_G: 5.4613\tD(x): 0.9970\tD(G(z)): 0.1274 / 0.0055\n",
            "epoch: 51\n"
          ],
          "name": "stdout"
        },
        {
          "output_type": "stream",
          "text": [
            "/usr/local/lib/python3.6/dist-packages/PIL/Image.py:932: UserWarning: Palette images with Transparency expressed in bytes should be converted to RGBA images\n",
            "  \"Palette images with Transparency expressed in bytes should be \"\n",
            "/usr/local/lib/python3.6/dist-packages/PIL/Image.py:932: UserWarning: Palette images with Transparency expressed in bytes should be converted to RGBA images\n",
            "  \"Palette images with Transparency expressed in bytes should be \"\n"
          ],
          "name": "stderr"
        },
        {
          "output_type": "stream",
          "text": [
            "[51/100][0/65]\tLoss_D: 0.0469\tLoss_G: 5.1526\tD(x): 0.9911\tD(G(z)): 0.0367 / 0.0072\n",
            "[51/100][50/65]\tLoss_D: 0.3131\tLoss_G: 5.0566\tD(x): 0.9892\tD(G(z)): 0.2082 / 0.0087\n",
            "epoch: 52\n"
          ],
          "name": "stdout"
        },
        {
          "output_type": "stream",
          "text": [
            "/usr/local/lib/python3.6/dist-packages/PIL/Image.py:932: UserWarning: Palette images with Transparency expressed in bytes should be converted to RGBA images\n",
            "  \"Palette images with Transparency expressed in bytes should be \"\n"
          ],
          "name": "stderr"
        },
        {
          "output_type": "stream",
          "text": [
            "[52/100][0/65]\tLoss_D: 0.0892\tLoss_G: 4.8590\tD(x): 0.9745\tD(G(z)): 0.0594 / 0.0116\n"
          ],
          "name": "stdout"
        },
        {
          "output_type": "stream",
          "text": [
            "/usr/local/lib/python3.6/dist-packages/PIL/Image.py:932: UserWarning: Palette images with Transparency expressed in bytes should be converted to RGBA images\n",
            "  \"Palette images with Transparency expressed in bytes should be \"\n"
          ],
          "name": "stderr"
        },
        {
          "output_type": "stream",
          "text": [
            "[52/100][50/65]\tLoss_D: 0.0236\tLoss_G: 8.3733\tD(x): 0.9800\tD(G(z)): 0.0030 / 0.0006\n",
            "epoch: 53\n"
          ],
          "name": "stdout"
        },
        {
          "output_type": "stream",
          "text": [
            "/usr/local/lib/python3.6/dist-packages/PIL/Image.py:932: UserWarning: Palette images with Transparency expressed in bytes should be converted to RGBA images\n",
            "  \"Palette images with Transparency expressed in bytes should be \"\n",
            "/usr/local/lib/python3.6/dist-packages/PIL/Image.py:932: UserWarning: Palette images with Transparency expressed in bytes should be converted to RGBA images\n",
            "  \"Palette images with Transparency expressed in bytes should be \"\n"
          ],
          "name": "stderr"
        },
        {
          "output_type": "stream",
          "text": [
            "[53/100][0/65]\tLoss_D: 0.3618\tLoss_G: 8.3679\tD(x): 0.9976\tD(G(z)): 0.2501 / 0.0007\n",
            "[53/100][50/65]\tLoss_D: 0.2644\tLoss_G: 5.1708\tD(x): 0.9890\tD(G(z)): 0.1926 / 0.0078\n",
            "epoch: 54\n"
          ],
          "name": "stdout"
        },
        {
          "output_type": "stream",
          "text": [
            "/usr/local/lib/python3.6/dist-packages/PIL/Image.py:932: UserWarning: Palette images with Transparency expressed in bytes should be converted to RGBA images\n",
            "  \"Palette images with Transparency expressed in bytes should be \"\n",
            "/usr/local/lib/python3.6/dist-packages/PIL/Image.py:932: UserWarning: Palette images with Transparency expressed in bytes should be converted to RGBA images\n",
            "  \"Palette images with Transparency expressed in bytes should be \"\n"
          ],
          "name": "stderr"
        },
        {
          "output_type": "stream",
          "text": [
            "[54/100][0/65]\tLoss_D: 0.1178\tLoss_G: 4.7052\tD(x): 0.9826\tD(G(z)): 0.0895 / 0.0109\n",
            "[54/100][50/65]\tLoss_D: 0.0967\tLoss_G: 5.0206\tD(x): 0.9883\tD(G(z)): 0.0782 / 0.0109\n",
            "epoch: 55\n"
          ],
          "name": "stdout"
        },
        {
          "output_type": "stream",
          "text": [
            "/usr/local/lib/python3.6/dist-packages/PIL/Image.py:932: UserWarning: Palette images with Transparency expressed in bytes should be converted to RGBA images\n",
            "  \"Palette images with Transparency expressed in bytes should be \"\n"
          ],
          "name": "stderr"
        },
        {
          "output_type": "stream",
          "text": [
            "[55/100][0/65]\tLoss_D: 0.3870\tLoss_G: 6.4287\tD(x): 0.9960\tD(G(z)): 0.2409 / 0.0021\n"
          ],
          "name": "stdout"
        },
        {
          "output_type": "stream",
          "text": [
            "/usr/local/lib/python3.6/dist-packages/PIL/Image.py:932: UserWarning: Palette images with Transparency expressed in bytes should be converted to RGBA images\n",
            "  \"Palette images with Transparency expressed in bytes should be \"\n"
          ],
          "name": "stderr"
        },
        {
          "output_type": "stream",
          "text": [
            "[55/100][50/65]\tLoss_D: 0.0715\tLoss_G: 4.7837\tD(x): 0.9731\tD(G(z)): 0.0421 / 0.0112\n",
            "epoch: 56\n"
          ],
          "name": "stdout"
        },
        {
          "output_type": "stream",
          "text": [
            "/usr/local/lib/python3.6/dist-packages/PIL/Image.py:932: UserWarning: Palette images with Transparency expressed in bytes should be converted to RGBA images\n",
            "  \"Palette images with Transparency expressed in bytes should be \"\n",
            "/usr/local/lib/python3.6/dist-packages/PIL/Image.py:932: UserWarning: Palette images with Transparency expressed in bytes should be converted to RGBA images\n",
            "  \"Palette images with Transparency expressed in bytes should be \"\n"
          ],
          "name": "stderr"
        },
        {
          "output_type": "stream",
          "text": [
            "[56/100][0/65]\tLoss_D: 0.1310\tLoss_G: 4.8139\tD(x): 0.9172\tD(G(z)): 0.0333 / 0.0126\n",
            "[56/100][50/65]\tLoss_D: 0.1033\tLoss_G: 6.3222\tD(x): 0.9106\tD(G(z)): 0.0047 / 0.0047\n",
            "epoch: 57\n"
          ],
          "name": "stdout"
        },
        {
          "output_type": "stream",
          "text": [
            "/usr/local/lib/python3.6/dist-packages/PIL/Image.py:932: UserWarning: Palette images with Transparency expressed in bytes should be converted to RGBA images\n",
            "  \"Palette images with Transparency expressed in bytes should be \"\n",
            "/usr/local/lib/python3.6/dist-packages/PIL/Image.py:932: UserWarning: Palette images with Transparency expressed in bytes should be converted to RGBA images\n",
            "  \"Palette images with Transparency expressed in bytes should be \"\n"
          ],
          "name": "stderr"
        },
        {
          "output_type": "stream",
          "text": [
            "[57/100][0/65]\tLoss_D: 0.1109\tLoss_G: 4.5894\tD(x): 0.9177\tD(G(z)): 0.0193 / 0.0117\n",
            "[57/100][50/65]\tLoss_D: 0.0651\tLoss_G: 4.9303\tD(x): 0.9985\tD(G(z)): 0.0599 / 0.0085\n",
            "epoch: 58\n"
          ],
          "name": "stdout"
        },
        {
          "output_type": "stream",
          "text": [
            "/usr/local/lib/python3.6/dist-packages/PIL/Image.py:932: UserWarning: Palette images with Transparency expressed in bytes should be converted to RGBA images\n",
            "  \"Palette images with Transparency expressed in bytes should be \"\n",
            "/usr/local/lib/python3.6/dist-packages/PIL/Image.py:932: UserWarning: Palette images with Transparency expressed in bytes should be converted to RGBA images\n",
            "  \"Palette images with Transparency expressed in bytes should be \"\n"
          ],
          "name": "stderr"
        },
        {
          "output_type": "stream",
          "text": [
            "[58/100][0/65]\tLoss_D: 0.1960\tLoss_G: 3.2400\tD(x): 0.9264\tD(G(z)): 0.0952 / 0.0426\n",
            "[58/100][50/65]\tLoss_D: 0.9715\tLoss_G: 3.8340\tD(x): 0.6266\tD(G(z)): 0.1049 / 0.0616\n",
            "epoch: 59\n"
          ],
          "name": "stdout"
        },
        {
          "output_type": "stream",
          "text": [
            "/usr/local/lib/python3.6/dist-packages/PIL/Image.py:932: UserWarning: Palette images with Transparency expressed in bytes should be converted to RGBA images\n",
            "  \"Palette images with Transparency expressed in bytes should be \"\n",
            "/usr/local/lib/python3.6/dist-packages/PIL/Image.py:932: UserWarning: Palette images with Transparency expressed in bytes should be converted to RGBA images\n",
            "  \"Palette images with Transparency expressed in bytes should be \"\n"
          ],
          "name": "stderr"
        },
        {
          "output_type": "stream",
          "text": [
            "[59/100][0/65]\tLoss_D: 0.0508\tLoss_G: 6.7588\tD(x): 0.9911\tD(G(z)): 0.0399 / 0.0024\n",
            "[59/100][50/65]\tLoss_D: 0.1706\tLoss_G: 4.2816\tD(x): 0.8635\tD(G(z)): 0.0192 / 0.0249\n",
            "epoch: 60\n"
          ],
          "name": "stdout"
        },
        {
          "output_type": "stream",
          "text": [
            "/usr/local/lib/python3.6/dist-packages/PIL/Image.py:932: UserWarning: Palette images with Transparency expressed in bytes should be converted to RGBA images\n",
            "  \"Palette images with Transparency expressed in bytes should be \"\n",
            "/usr/local/lib/python3.6/dist-packages/PIL/Image.py:932: UserWarning: Palette images with Transparency expressed in bytes should be converted to RGBA images\n",
            "  \"Palette images with Transparency expressed in bytes should be \"\n"
          ],
          "name": "stderr"
        },
        {
          "output_type": "stream",
          "text": [
            "[60/100][0/65]\tLoss_D: 0.0504\tLoss_G: 4.9539\tD(x): 0.9742\tD(G(z)): 0.0233 / 0.0092\n",
            "[60/100][50/65]\tLoss_D: 0.0315\tLoss_G: 9.3535\tD(x): 0.9700\tD(G(z)): 0.0008 / 0.0002\n",
            "epoch: 61\n",
            "[61/100][0/65]\tLoss_D: 0.2349\tLoss_G: 6.2258\tD(x): 0.9947\tD(G(z)): 0.1933 / 0.0023\n"
          ],
          "name": "stdout"
        },
        {
          "output_type": "stream",
          "text": [
            "/usr/local/lib/python3.6/dist-packages/PIL/Image.py:932: UserWarning: Palette images with Transparency expressed in bytes should be converted to RGBA images\n",
            "  \"Palette images with Transparency expressed in bytes should be \"\n",
            "/usr/local/lib/python3.6/dist-packages/PIL/Image.py:932: UserWarning: Palette images with Transparency expressed in bytes should be converted to RGBA images\n",
            "  \"Palette images with Transparency expressed in bytes should be \"\n"
          ],
          "name": "stderr"
        },
        {
          "output_type": "stream",
          "text": [
            "[61/100][50/65]\tLoss_D: 0.1763\tLoss_G: 5.4921\tD(x): 0.8760\tD(G(z)): 0.0168 / 0.0244\n",
            "epoch: 62\n"
          ],
          "name": "stdout"
        },
        {
          "output_type": "stream",
          "text": [
            "/usr/local/lib/python3.6/dist-packages/PIL/Image.py:932: UserWarning: Palette images with Transparency expressed in bytes should be converted to RGBA images\n",
            "  \"Palette images with Transparency expressed in bytes should be \"\n",
            "/usr/local/lib/python3.6/dist-packages/PIL/Image.py:932: UserWarning: Palette images with Transparency expressed in bytes should be converted to RGBA images\n",
            "  \"Palette images with Transparency expressed in bytes should be \"\n"
          ],
          "name": "stderr"
        },
        {
          "output_type": "stream",
          "text": [
            "[62/100][0/65]\tLoss_D: 0.3397\tLoss_G: 2.0029\tD(x): 0.7749\tD(G(z)): 0.0602 / 0.1842\n",
            "[62/100][50/65]\tLoss_D: 0.3336\tLoss_G: 3.2783\tD(x): 0.7658\tD(G(z)): 0.0107 / 0.0919\n",
            "epoch: 63\n"
          ],
          "name": "stdout"
        },
        {
          "output_type": "stream",
          "text": [
            "/usr/local/lib/python3.6/dist-packages/PIL/Image.py:932: UserWarning: Palette images with Transparency expressed in bytes should be converted to RGBA images\n",
            "  \"Palette images with Transparency expressed in bytes should be \"\n"
          ],
          "name": "stderr"
        },
        {
          "output_type": "stream",
          "text": [
            "[63/100][0/65]\tLoss_D: 0.5656\tLoss_G: 5.3868\tD(x): 0.6770\tD(G(z)): 0.0025 / 0.0394\n"
          ],
          "name": "stdout"
        },
        {
          "output_type": "stream",
          "text": [
            "/usr/local/lib/python3.6/dist-packages/PIL/Image.py:932: UserWarning: Palette images with Transparency expressed in bytes should be converted to RGBA images\n",
            "  \"Palette images with Transparency expressed in bytes should be \"\n"
          ],
          "name": "stderr"
        },
        {
          "output_type": "stream",
          "text": [
            "[63/100][50/65]\tLoss_D: 0.1220\tLoss_G: 3.8630\tD(x): 0.9315\tD(G(z)): 0.0479 / 0.0258\n",
            "epoch: 64\n"
          ],
          "name": "stdout"
        },
        {
          "output_type": "stream",
          "text": [
            "/usr/local/lib/python3.6/dist-packages/PIL/Image.py:932: UserWarning: Palette images with Transparency expressed in bytes should be converted to RGBA images\n",
            "  \"Palette images with Transparency expressed in bytes should be \"\n"
          ],
          "name": "stderr"
        },
        {
          "output_type": "stream",
          "text": [
            "[64/100][0/65]\tLoss_D: 0.0534\tLoss_G: 5.2289\tD(x): 0.9906\tD(G(z)): 0.0421 / 0.0066\n"
          ],
          "name": "stdout"
        },
        {
          "output_type": "stream",
          "text": [
            "/usr/local/lib/python3.6/dist-packages/PIL/Image.py:932: UserWarning: Palette images with Transparency expressed in bytes should be converted to RGBA images\n",
            "  \"Palette images with Transparency expressed in bytes should be \"\n"
          ],
          "name": "stderr"
        },
        {
          "output_type": "stream",
          "text": [
            "[64/100][50/65]\tLoss_D: 0.1959\tLoss_G: 9.5953\tD(x): 0.9613\tD(G(z)): 0.1285 / 0.0001\n",
            "epoch: 65\n"
          ],
          "name": "stdout"
        },
        {
          "output_type": "stream",
          "text": [
            "/usr/local/lib/python3.6/dist-packages/PIL/Image.py:932: UserWarning: Palette images with Transparency expressed in bytes should be converted to RGBA images\n",
            "  \"Palette images with Transparency expressed in bytes should be \"\n",
            "/usr/local/lib/python3.6/dist-packages/PIL/Image.py:932: UserWarning: Palette images with Transparency expressed in bytes should be converted to RGBA images\n",
            "  \"Palette images with Transparency expressed in bytes should be \"\n"
          ],
          "name": "stderr"
        },
        {
          "output_type": "stream",
          "text": [
            "[65/100][0/65]\tLoss_D: 0.0157\tLoss_G: 7.7422\tD(x): 0.9912\tD(G(z)): 0.0067 / 0.0008\n",
            "[65/100][50/65]\tLoss_D: 0.3866\tLoss_G: 15.5829\tD(x): 0.9993\tD(G(z)): 0.2523 / 0.0000\n",
            "epoch: 66\n",
            "[66/100][0/65]\tLoss_D: 0.0088\tLoss_G: 7.1788\tD(x): 0.9975\tD(G(z)): 0.0062 / 0.0009\n"
          ],
          "name": "stdout"
        },
        {
          "output_type": "stream",
          "text": [
            "/usr/local/lib/python3.6/dist-packages/PIL/Image.py:932: UserWarning: Palette images with Transparency expressed in bytes should be converted to RGBA images\n",
            "  \"Palette images with Transparency expressed in bytes should be \"\n",
            "/usr/local/lib/python3.6/dist-packages/PIL/Image.py:932: UserWarning: Palette images with Transparency expressed in bytes should be converted to RGBA images\n",
            "  \"Palette images with Transparency expressed in bytes should be \"\n"
          ],
          "name": "stderr"
        },
        {
          "output_type": "stream",
          "text": [
            "[66/100][50/65]\tLoss_D: 0.1911\tLoss_G: 20.5812\tD(x): 0.9987\tD(G(z)): 0.1677 / 0.0000\n",
            "epoch: 67\n"
          ],
          "name": "stdout"
        },
        {
          "output_type": "stream",
          "text": [
            "/usr/local/lib/python3.6/dist-packages/PIL/Image.py:932: UserWarning: Palette images with Transparency expressed in bytes should be converted to RGBA images\n",
            "  \"Palette images with Transparency expressed in bytes should be \"\n"
          ],
          "name": "stderr"
        },
        {
          "output_type": "stream",
          "text": [
            "[67/100][0/65]\tLoss_D: 0.2674\tLoss_G: 5.1576\tD(x): 0.7941\tD(G(z)): 0.0040 / 0.0095\n"
          ],
          "name": "stdout"
        },
        {
          "output_type": "stream",
          "text": [
            "/usr/local/lib/python3.6/dist-packages/PIL/Image.py:932: UserWarning: Palette images with Transparency expressed in bytes should be converted to RGBA images\n",
            "  \"Palette images with Transparency expressed in bytes should be \"\n"
          ],
          "name": "stderr"
        },
        {
          "output_type": "stream",
          "text": [
            "[67/100][50/65]\tLoss_D: 0.0007\tLoss_G: 43.7400\tD(x): 0.9993\tD(G(z)): 0.0000 / 0.0000\n",
            "epoch: 68\n"
          ],
          "name": "stdout"
        },
        {
          "output_type": "stream",
          "text": [
            "/usr/local/lib/python3.6/dist-packages/PIL/Image.py:932: UserWarning: Palette images with Transparency expressed in bytes should be converted to RGBA images\n",
            "  \"Palette images with Transparency expressed in bytes should be \"\n"
          ],
          "name": "stderr"
        },
        {
          "output_type": "stream",
          "text": [
            "[68/100][0/65]\tLoss_D: 0.0000\tLoss_G: 43.7408\tD(x): 1.0000\tD(G(z)): 0.0000 / 0.0000\n"
          ],
          "name": "stdout"
        },
        {
          "output_type": "stream",
          "text": [
            "/usr/local/lib/python3.6/dist-packages/PIL/Image.py:932: UserWarning: Palette images with Transparency expressed in bytes should be converted to RGBA images\n",
            "  \"Palette images with Transparency expressed in bytes should be \"\n"
          ],
          "name": "stderr"
        },
        {
          "output_type": "stream",
          "text": [
            "[68/100][50/65]\tLoss_D: 0.0004\tLoss_G: 43.6953\tD(x): 0.9996\tD(G(z)): 0.0000 / 0.0000\n",
            "epoch: 69\n",
            "[69/100][0/65]\tLoss_D: 0.0001\tLoss_G: 43.6180\tD(x): 0.9999\tD(G(z)): 0.0000 / 0.0000\n"
          ],
          "name": "stdout"
        },
        {
          "output_type": "stream",
          "text": [
            "/usr/local/lib/python3.6/dist-packages/PIL/Image.py:932: UserWarning: Palette images with Transparency expressed in bytes should be converted to RGBA images\n",
            "  \"Palette images with Transparency expressed in bytes should be \"\n",
            "/usr/local/lib/python3.6/dist-packages/PIL/Image.py:932: UserWarning: Palette images with Transparency expressed in bytes should be converted to RGBA images\n",
            "  \"Palette images with Transparency expressed in bytes should be \"\n"
          ],
          "name": "stderr"
        },
        {
          "output_type": "stream",
          "text": [
            "[69/100][50/65]\tLoss_D: 0.0000\tLoss_G: 43.5050\tD(x): 1.0000\tD(G(z)): 0.0000 / 0.0000\n",
            "epoch: 70\n"
          ],
          "name": "stdout"
        },
        {
          "output_type": "stream",
          "text": [
            "/usr/local/lib/python3.6/dist-packages/PIL/Image.py:932: UserWarning: Palette images with Transparency expressed in bytes should be converted to RGBA images\n",
            "  \"Palette images with Transparency expressed in bytes should be \"\n",
            "/usr/local/lib/python3.6/dist-packages/PIL/Image.py:932: UserWarning: Palette images with Transparency expressed in bytes should be converted to RGBA images\n",
            "  \"Palette images with Transparency expressed in bytes should be \"\n"
          ],
          "name": "stderr"
        },
        {
          "output_type": "stream",
          "text": [
            "[70/100][0/65]\tLoss_D: 0.0000\tLoss_G: 43.5157\tD(x): 1.0000\tD(G(z)): 0.0000 / 0.0000\n",
            "[70/100][50/65]\tLoss_D: 0.0000\tLoss_G: 43.5009\tD(x): 1.0000\tD(G(z)): 0.0000 / 0.0000\n",
            "epoch: 71\n"
          ],
          "name": "stdout"
        },
        {
          "output_type": "stream",
          "text": [
            "/usr/local/lib/python3.6/dist-packages/PIL/Image.py:932: UserWarning: Palette images with Transparency expressed in bytes should be converted to RGBA images\n",
            "  \"Palette images with Transparency expressed in bytes should be \"\n"
          ],
          "name": "stderr"
        },
        {
          "output_type": "stream",
          "text": [
            "[71/100][0/65]\tLoss_D: 0.0000\tLoss_G: 43.4954\tD(x): 1.0000\tD(G(z)): 0.0000 / 0.0000\n"
          ],
          "name": "stdout"
        },
        {
          "output_type": "stream",
          "text": [
            "/usr/local/lib/python3.6/dist-packages/PIL/Image.py:932: UserWarning: Palette images with Transparency expressed in bytes should be converted to RGBA images\n",
            "  \"Palette images with Transparency expressed in bytes should be \"\n"
          ],
          "name": "stderr"
        },
        {
          "output_type": "stream",
          "text": [
            "[71/100][50/65]\tLoss_D: 0.0000\tLoss_G: 43.5217\tD(x): 1.0000\tD(G(z)): 0.0000 / 0.0000\n",
            "epoch: 72\n"
          ],
          "name": "stdout"
        },
        {
          "output_type": "stream",
          "text": [
            "/usr/local/lib/python3.6/dist-packages/PIL/Image.py:932: UserWarning: Palette images with Transparency expressed in bytes should be converted to RGBA images\n",
            "  \"Palette images with Transparency expressed in bytes should be \"\n",
            "/usr/local/lib/python3.6/dist-packages/PIL/Image.py:932: UserWarning: Palette images with Transparency expressed in bytes should be converted to RGBA images\n",
            "  \"Palette images with Transparency expressed in bytes should be \"\n"
          ],
          "name": "stderr"
        },
        {
          "output_type": "stream",
          "text": [
            "[72/100][0/65]\tLoss_D: 0.0000\tLoss_G: 43.4607\tD(x): 1.0000\tD(G(z)): 0.0000 / 0.0000\n",
            "[72/100][50/65]\tLoss_D: 0.0004\tLoss_G: 43.5231\tD(x): 0.9996\tD(G(z)): 0.0000 / 0.0000\n",
            "epoch: 73\n"
          ],
          "name": "stdout"
        },
        {
          "output_type": "stream",
          "text": [
            "/usr/local/lib/python3.6/dist-packages/PIL/Image.py:932: UserWarning: Palette images with Transparency expressed in bytes should be converted to RGBA images\n",
            "  \"Palette images with Transparency expressed in bytes should be \"\n"
          ],
          "name": "stderr"
        },
        {
          "output_type": "stream",
          "text": [
            "[73/100][0/65]\tLoss_D: 0.0001\tLoss_G: 43.5227\tD(x): 0.9999\tD(G(z)): 0.0000 / 0.0000\n"
          ],
          "name": "stdout"
        },
        {
          "output_type": "stream",
          "text": [
            "/usr/local/lib/python3.6/dist-packages/PIL/Image.py:932: UserWarning: Palette images with Transparency expressed in bytes should be converted to RGBA images\n",
            "  \"Palette images with Transparency expressed in bytes should be \"\n"
          ],
          "name": "stderr"
        },
        {
          "output_type": "stream",
          "text": [
            "[73/100][50/65]\tLoss_D: 0.0000\tLoss_G: 43.3532\tD(x): 1.0000\tD(G(z)): 0.0000 / 0.0000\n",
            "epoch: 74\n",
            "[74/100][0/65]\tLoss_D: 0.0000\tLoss_G: 43.3721\tD(x): 1.0000\tD(G(z)): 0.0000 / 0.0000\n"
          ],
          "name": "stdout"
        },
        {
          "output_type": "stream",
          "text": [
            "/usr/local/lib/python3.6/dist-packages/PIL/Image.py:932: UserWarning: Palette images with Transparency expressed in bytes should be converted to RGBA images\n",
            "  \"Palette images with Transparency expressed in bytes should be \"\n",
            "/usr/local/lib/python3.6/dist-packages/PIL/Image.py:932: UserWarning: Palette images with Transparency expressed in bytes should be converted to RGBA images\n",
            "  \"Palette images with Transparency expressed in bytes should be \"\n"
          ],
          "name": "stderr"
        },
        {
          "output_type": "stream",
          "text": [
            "[74/100][50/65]\tLoss_D: 0.0000\tLoss_G: 43.4199\tD(x): 1.0000\tD(G(z)): 0.0000 / 0.0000\n",
            "epoch: 75\n"
          ],
          "name": "stdout"
        },
        {
          "output_type": "stream",
          "text": [
            "/usr/local/lib/python3.6/dist-packages/PIL/Image.py:932: UserWarning: Palette images with Transparency expressed in bytes should be converted to RGBA images\n",
            "  \"Palette images with Transparency expressed in bytes should be \"\n",
            "/usr/local/lib/python3.6/dist-packages/PIL/Image.py:932: UserWarning: Palette images with Transparency expressed in bytes should be converted to RGBA images\n",
            "  \"Palette images with Transparency expressed in bytes should be \"\n"
          ],
          "name": "stderr"
        },
        {
          "output_type": "stream",
          "text": [
            "[75/100][0/65]\tLoss_D: 0.0000\tLoss_G: 43.3181\tD(x): 1.0000\tD(G(z)): 0.0000 / 0.0000\n",
            "[75/100][50/65]\tLoss_D: 0.0000\tLoss_G: 43.3186\tD(x): 1.0000\tD(G(z)): 0.0000 / 0.0000\n",
            "epoch: 76\n"
          ],
          "name": "stdout"
        },
        {
          "output_type": "stream",
          "text": [
            "/usr/local/lib/python3.6/dist-packages/PIL/Image.py:932: UserWarning: Palette images with Transparency expressed in bytes should be converted to RGBA images\n",
            "  \"Palette images with Transparency expressed in bytes should be \"\n",
            "/usr/local/lib/python3.6/dist-packages/PIL/Image.py:932: UserWarning: Palette images with Transparency expressed in bytes should be converted to RGBA images\n",
            "  \"Palette images with Transparency expressed in bytes should be \"\n"
          ],
          "name": "stderr"
        },
        {
          "output_type": "stream",
          "text": [
            "[76/100][0/65]\tLoss_D: 0.0000\tLoss_G: 43.3826\tD(x): 1.0000\tD(G(z)): 0.0000 / 0.0000\n",
            "[76/100][50/65]\tLoss_D: 0.0001\tLoss_G: 43.4162\tD(x): 0.9999\tD(G(z)): 0.0000 / 0.0000\n",
            "epoch: 77\n"
          ],
          "name": "stdout"
        },
        {
          "output_type": "stream",
          "text": [
            "/usr/local/lib/python3.6/dist-packages/PIL/Image.py:932: UserWarning: Palette images with Transparency expressed in bytes should be converted to RGBA images\n",
            "  \"Palette images with Transparency expressed in bytes should be \"\n"
          ],
          "name": "stderr"
        },
        {
          "output_type": "stream",
          "text": [
            "[77/100][0/65]\tLoss_D: 0.0001\tLoss_G: 43.4016\tD(x): 0.9999\tD(G(z)): 0.0000 / 0.0000\n"
          ],
          "name": "stdout"
        },
        {
          "output_type": "stream",
          "text": [
            "/usr/local/lib/python3.6/dist-packages/PIL/Image.py:932: UserWarning: Palette images with Transparency expressed in bytes should be converted to RGBA images\n",
            "  \"Palette images with Transparency expressed in bytes should be \"\n"
          ],
          "name": "stderr"
        },
        {
          "output_type": "stream",
          "text": [
            "[77/100][50/65]\tLoss_D: 0.0000\tLoss_G: 43.3324\tD(x): 1.0000\tD(G(z)): 0.0000 / 0.0000\n",
            "epoch: 78\n",
            "[78/100][0/65]\tLoss_D: 0.0000\tLoss_G: 43.2866\tD(x): 1.0000\tD(G(z)): 0.0000 / 0.0000\n"
          ],
          "name": "stdout"
        },
        {
          "output_type": "stream",
          "text": [
            "/usr/local/lib/python3.6/dist-packages/PIL/Image.py:932: UserWarning: Palette images with Transparency expressed in bytes should be converted to RGBA images\n",
            "  \"Palette images with Transparency expressed in bytes should be \"\n",
            "/usr/local/lib/python3.6/dist-packages/PIL/Image.py:932: UserWarning: Palette images with Transparency expressed in bytes should be converted to RGBA images\n",
            "  \"Palette images with Transparency expressed in bytes should be \"\n"
          ],
          "name": "stderr"
        },
        {
          "output_type": "stream",
          "text": [
            "[78/100][50/65]\tLoss_D: 0.0000\tLoss_G: 43.3513\tD(x): 1.0000\tD(G(z)): 0.0000 / 0.0000\n",
            "epoch: 79\n"
          ],
          "name": "stdout"
        },
        {
          "output_type": "stream",
          "text": [
            "/usr/local/lib/python3.6/dist-packages/PIL/Image.py:932: UserWarning: Palette images with Transparency expressed in bytes should be converted to RGBA images\n",
            "  \"Palette images with Transparency expressed in bytes should be \"\n"
          ],
          "name": "stderr"
        },
        {
          "output_type": "stream",
          "text": [
            "[79/100][0/65]\tLoss_D: 0.0000\tLoss_G: 43.3514\tD(x): 1.0000\tD(G(z)): 0.0000 / 0.0000\n"
          ],
          "name": "stdout"
        },
        {
          "output_type": "stream",
          "text": [
            "/usr/local/lib/python3.6/dist-packages/PIL/Image.py:932: UserWarning: Palette images with Transparency expressed in bytes should be converted to RGBA images\n",
            "  \"Palette images with Transparency expressed in bytes should be \"\n"
          ],
          "name": "stderr"
        },
        {
          "output_type": "stream",
          "text": [
            "[79/100][50/65]\tLoss_D: 0.0000\tLoss_G: 43.3569\tD(x): 1.0000\tD(G(z)): 0.0000 / 0.0000\n",
            "epoch: 80\n"
          ],
          "name": "stdout"
        },
        {
          "output_type": "stream",
          "text": [
            "/usr/local/lib/python3.6/dist-packages/PIL/Image.py:932: UserWarning: Palette images with Transparency expressed in bytes should be converted to RGBA images\n",
            "  \"Palette images with Transparency expressed in bytes should be \"\n",
            "/usr/local/lib/python3.6/dist-packages/PIL/Image.py:932: UserWarning: Palette images with Transparency expressed in bytes should be converted to RGBA images\n",
            "  \"Palette images with Transparency expressed in bytes should be \"\n"
          ],
          "name": "stderr"
        },
        {
          "output_type": "stream",
          "text": [
            "[80/100][0/65]\tLoss_D: 0.0000\tLoss_G: 43.3533\tD(x): 1.0000\tD(G(z)): 0.0000 / 0.0000\n",
            "[80/100][50/65]\tLoss_D: 0.0000\tLoss_G: 43.2032\tD(x): 1.0000\tD(G(z)): 0.0000 / 0.0000\n",
            "epoch: 81\n"
          ],
          "name": "stdout"
        },
        {
          "output_type": "stream",
          "text": [
            "/usr/local/lib/python3.6/dist-packages/PIL/Image.py:932: UserWarning: Palette images with Transparency expressed in bytes should be converted to RGBA images\n",
            "  \"Palette images with Transparency expressed in bytes should be \"\n"
          ],
          "name": "stderr"
        },
        {
          "output_type": "stream",
          "text": [
            "[81/100][0/65]\tLoss_D: 0.0000\tLoss_G: 43.2628\tD(x): 1.0000\tD(G(z)): 0.0000 / 0.0000\n"
          ],
          "name": "stdout"
        },
        {
          "output_type": "stream",
          "text": [
            "/usr/local/lib/python3.6/dist-packages/PIL/Image.py:932: UserWarning: Palette images with Transparency expressed in bytes should be converted to RGBA images\n",
            "  \"Palette images with Transparency expressed in bytes should be \"\n"
          ],
          "name": "stderr"
        },
        {
          "output_type": "stream",
          "text": [
            "[81/100][50/65]\tLoss_D: 0.0000\tLoss_G: 43.3176\tD(x): 1.0000\tD(G(z)): 0.0000 / 0.0000\n",
            "epoch: 82\n"
          ],
          "name": "stdout"
        },
        {
          "output_type": "stream",
          "text": [
            "/usr/local/lib/python3.6/dist-packages/PIL/Image.py:932: UserWarning: Palette images with Transparency expressed in bytes should be converted to RGBA images\n",
            "  \"Palette images with Transparency expressed in bytes should be \"\n",
            "/usr/local/lib/python3.6/dist-packages/PIL/Image.py:932: UserWarning: Palette images with Transparency expressed in bytes should be converted to RGBA images\n",
            "  \"Palette images with Transparency expressed in bytes should be \"\n"
          ],
          "name": "stderr"
        },
        {
          "output_type": "stream",
          "text": [
            "[82/100][0/65]\tLoss_D: 0.0000\tLoss_G: 43.3154\tD(x): 1.0000\tD(G(z)): 0.0000 / 0.0000\n",
            "[82/100][50/65]\tLoss_D: 0.0000\tLoss_G: 43.4185\tD(x): 1.0000\tD(G(z)): 0.0000 / 0.0000\n",
            "epoch: 83\n",
            "[83/100][0/65]\tLoss_D: 0.0001\tLoss_G: 43.2385\tD(x): 0.9999\tD(G(z)): 0.0000 / 0.0000\n"
          ],
          "name": "stdout"
        },
        {
          "output_type": "stream",
          "text": [
            "/usr/local/lib/python3.6/dist-packages/PIL/Image.py:932: UserWarning: Palette images with Transparency expressed in bytes should be converted to RGBA images\n",
            "  \"Palette images with Transparency expressed in bytes should be \"\n",
            "/usr/local/lib/python3.6/dist-packages/PIL/Image.py:932: UserWarning: Palette images with Transparency expressed in bytes should be converted to RGBA images\n",
            "  \"Palette images with Transparency expressed in bytes should be \"\n"
          ],
          "name": "stderr"
        },
        {
          "output_type": "stream",
          "text": [
            "[83/100][50/65]\tLoss_D: 0.0000\tLoss_G: 43.3046\tD(x): 1.0000\tD(G(z)): 0.0000 / 0.0000\n",
            "epoch: 84\n"
          ],
          "name": "stdout"
        },
        {
          "output_type": "stream",
          "text": [
            "/usr/local/lib/python3.6/dist-packages/PIL/Image.py:932: UserWarning: Palette images with Transparency expressed in bytes should be converted to RGBA images\n",
            "  \"Palette images with Transparency expressed in bytes should be \"\n"
          ],
          "name": "stderr"
        },
        {
          "output_type": "stream",
          "text": [
            "[84/100][0/65]\tLoss_D: 0.0000\tLoss_G: 43.3806\tD(x): 1.0000\tD(G(z)): 0.0000 / 0.0000\n"
          ],
          "name": "stdout"
        },
        {
          "output_type": "stream",
          "text": [
            "/usr/local/lib/python3.6/dist-packages/PIL/Image.py:932: UserWarning: Palette images with Transparency expressed in bytes should be converted to RGBA images\n",
            "  \"Palette images with Transparency expressed in bytes should be \"\n"
          ],
          "name": "stderr"
        },
        {
          "output_type": "stream",
          "text": [
            "[84/100][50/65]\tLoss_D: 0.0000\tLoss_G: 43.3683\tD(x): 1.0000\tD(G(z)): 0.0000 / 0.0000\n",
            "epoch: 85\n"
          ],
          "name": "stdout"
        },
        {
          "output_type": "stream",
          "text": [
            "/usr/local/lib/python3.6/dist-packages/PIL/Image.py:932: UserWarning: Palette images with Transparency expressed in bytes should be converted to RGBA images\n",
            "  \"Palette images with Transparency expressed in bytes should be \"\n"
          ],
          "name": "stderr"
        },
        {
          "output_type": "stream",
          "text": [
            "[85/100][0/65]\tLoss_D: 0.0001\tLoss_G: 43.3055\tD(x): 0.9999\tD(G(z)): 0.0000 / 0.0000\n"
          ],
          "name": "stdout"
        },
        {
          "output_type": "stream",
          "text": [
            "/usr/local/lib/python3.6/dist-packages/PIL/Image.py:932: UserWarning: Palette images with Transparency expressed in bytes should be converted to RGBA images\n",
            "  \"Palette images with Transparency expressed in bytes should be \"\n"
          ],
          "name": "stderr"
        },
        {
          "output_type": "stream",
          "text": [
            "[85/100][50/65]\tLoss_D: 0.0000\tLoss_G: 43.3421\tD(x): 1.0000\tD(G(z)): 0.0000 / 0.0000\n",
            "epoch: 86\n"
          ],
          "name": "stdout"
        },
        {
          "output_type": "stream",
          "text": [
            "/usr/local/lib/python3.6/dist-packages/PIL/Image.py:932: UserWarning: Palette images with Transparency expressed in bytes should be converted to RGBA images\n",
            "  \"Palette images with Transparency expressed in bytes should be \"\n"
          ],
          "name": "stderr"
        },
        {
          "output_type": "stream",
          "text": [
            "[86/100][0/65]\tLoss_D: 0.0000\tLoss_G: 43.3694\tD(x): 1.0000\tD(G(z)): 0.0000 / 0.0000\n"
          ],
          "name": "stdout"
        },
        {
          "output_type": "stream",
          "text": [
            "/usr/local/lib/python3.6/dist-packages/PIL/Image.py:932: UserWarning: Palette images with Transparency expressed in bytes should be converted to RGBA images\n",
            "  \"Palette images with Transparency expressed in bytes should be \"\n"
          ],
          "name": "stderr"
        },
        {
          "output_type": "stream",
          "text": [
            "[86/100][50/65]\tLoss_D: 0.0000\tLoss_G: 43.4165\tD(x): 1.0000\tD(G(z)): 0.0000 / 0.0000\n",
            "epoch: 87\n"
          ],
          "name": "stdout"
        },
        {
          "output_type": "stream",
          "text": [
            "/usr/local/lib/python3.6/dist-packages/PIL/Image.py:932: UserWarning: Palette images with Transparency expressed in bytes should be converted to RGBA images\n",
            "  \"Palette images with Transparency expressed in bytes should be \"\n",
            "/usr/local/lib/python3.6/dist-packages/PIL/Image.py:932: UserWarning: Palette images with Transparency expressed in bytes should be converted to RGBA images\n",
            "  \"Palette images with Transparency expressed in bytes should be \"\n"
          ],
          "name": "stderr"
        },
        {
          "output_type": "stream",
          "text": [
            "[87/100][0/65]\tLoss_D: 0.0000\tLoss_G: 43.3384\tD(x): 1.0000\tD(G(z)): 0.0000 / 0.0000\n",
            "[87/100][50/65]\tLoss_D: 0.0000\tLoss_G: 43.2475\tD(x): 1.0000\tD(G(z)): 0.0000 / 0.0000\n",
            "epoch: 88\n"
          ],
          "name": "stdout"
        },
        {
          "output_type": "stream",
          "text": [
            "/usr/local/lib/python3.6/dist-packages/PIL/Image.py:932: UserWarning: Palette images with Transparency expressed in bytes should be converted to RGBA images\n",
            "  \"Palette images with Transparency expressed in bytes should be \"\n"
          ],
          "name": "stderr"
        },
        {
          "output_type": "stream",
          "text": [
            "[88/100][0/65]\tLoss_D: 0.0000\tLoss_G: 43.2730\tD(x): 1.0000\tD(G(z)): 0.0000 / 0.0000\n"
          ],
          "name": "stdout"
        },
        {
          "output_type": "stream",
          "text": [
            "/usr/local/lib/python3.6/dist-packages/PIL/Image.py:932: UserWarning: Palette images with Transparency expressed in bytes should be converted to RGBA images\n",
            "  \"Palette images with Transparency expressed in bytes should be \"\n"
          ],
          "name": "stderr"
        },
        {
          "output_type": "stream",
          "text": [
            "[88/100][50/65]\tLoss_D: 0.0000\tLoss_G: 43.2815\tD(x): 1.0000\tD(G(z)): 0.0000 / 0.0000\n",
            "epoch: 89\n"
          ],
          "name": "stdout"
        },
        {
          "output_type": "stream",
          "text": [
            "/usr/local/lib/python3.6/dist-packages/PIL/Image.py:932: UserWarning: Palette images with Transparency expressed in bytes should be converted to RGBA images\n",
            "  \"Palette images with Transparency expressed in bytes should be \"\n"
          ],
          "name": "stderr"
        },
        {
          "output_type": "stream",
          "text": [
            "[89/100][0/65]\tLoss_D: 0.0000\tLoss_G: 43.1848\tD(x): 1.0000\tD(G(z)): 0.0000 / 0.0000\n"
          ],
          "name": "stdout"
        },
        {
          "output_type": "stream",
          "text": [
            "/usr/local/lib/python3.6/dist-packages/PIL/Image.py:932: UserWarning: Palette images with Transparency expressed in bytes should be converted to RGBA images\n",
            "  \"Palette images with Transparency expressed in bytes should be \"\n"
          ],
          "name": "stderr"
        },
        {
          "output_type": "stream",
          "text": [
            "[89/100][50/65]\tLoss_D: 0.0000\tLoss_G: 43.2255\tD(x): 1.0000\tD(G(z)): 0.0000 / 0.0000\n",
            "epoch: 90\n",
            "[90/100][0/65]\tLoss_D: 0.0000\tLoss_G: 43.1904\tD(x): 1.0000\tD(G(z)): 0.0000 / 0.0000\n"
          ],
          "name": "stdout"
        },
        {
          "output_type": "stream",
          "text": [
            "/usr/local/lib/python3.6/dist-packages/PIL/Image.py:932: UserWarning: Palette images with Transparency expressed in bytes should be converted to RGBA images\n",
            "  \"Palette images with Transparency expressed in bytes should be \"\n",
            "/usr/local/lib/python3.6/dist-packages/PIL/Image.py:932: UserWarning: Palette images with Transparency expressed in bytes should be converted to RGBA images\n",
            "  \"Palette images with Transparency expressed in bytes should be \"\n"
          ],
          "name": "stderr"
        },
        {
          "output_type": "stream",
          "text": [
            "[90/100][50/65]\tLoss_D: 0.0000\tLoss_G: 43.2720\tD(x): 1.0000\tD(G(z)): 0.0000 / 0.0000\n",
            "epoch: 91\n"
          ],
          "name": "stdout"
        },
        {
          "output_type": "stream",
          "text": [
            "/usr/local/lib/python3.6/dist-packages/PIL/Image.py:932: UserWarning: Palette images with Transparency expressed in bytes should be converted to RGBA images\n",
            "  \"Palette images with Transparency expressed in bytes should be \"\n"
          ],
          "name": "stderr"
        },
        {
          "output_type": "stream",
          "text": [
            "[91/100][0/65]\tLoss_D: 0.0000\tLoss_G: 43.2623\tD(x): 1.0000\tD(G(z)): 0.0000 / 0.0000\n"
          ],
          "name": "stdout"
        },
        {
          "output_type": "stream",
          "text": [
            "/usr/local/lib/python3.6/dist-packages/PIL/Image.py:932: UserWarning: Palette images with Transparency expressed in bytes should be converted to RGBA images\n",
            "  \"Palette images with Transparency expressed in bytes should be \"\n"
          ],
          "name": "stderr"
        },
        {
          "output_type": "stream",
          "text": [
            "[91/100][50/65]\tLoss_D: 0.0000\tLoss_G: 43.2349\tD(x): 1.0000\tD(G(z)): 0.0000 / 0.0000\n",
            "epoch: 92\n"
          ],
          "name": "stdout"
        },
        {
          "output_type": "stream",
          "text": [
            "/usr/local/lib/python3.6/dist-packages/PIL/Image.py:932: UserWarning: Palette images with Transparency expressed in bytes should be converted to RGBA images\n",
            "  \"Palette images with Transparency expressed in bytes should be \"\n",
            "/usr/local/lib/python3.6/dist-packages/PIL/Image.py:932: UserWarning: Palette images with Transparency expressed in bytes should be converted to RGBA images\n",
            "  \"Palette images with Transparency expressed in bytes should be \"\n"
          ],
          "name": "stderr"
        },
        {
          "output_type": "stream",
          "text": [
            "[92/100][0/65]\tLoss_D: 0.0000\tLoss_G: 43.2145\tD(x): 1.0000\tD(G(z)): 0.0000 / 0.0000\n",
            "[92/100][50/65]\tLoss_D: 0.0000\tLoss_G: 43.2704\tD(x): 1.0000\tD(G(z)): 0.0000 / 0.0000\n",
            "epoch: 93\n"
          ],
          "name": "stdout"
        },
        {
          "output_type": "stream",
          "text": [
            "/usr/local/lib/python3.6/dist-packages/PIL/Image.py:932: UserWarning: Palette images with Transparency expressed in bytes should be converted to RGBA images\n",
            "  \"Palette images with Transparency expressed in bytes should be \"\n"
          ],
          "name": "stderr"
        },
        {
          "output_type": "stream",
          "text": [
            "[93/100][0/65]\tLoss_D: 0.0000\tLoss_G: 43.2483\tD(x): 1.0000\tD(G(z)): 0.0000 / 0.0000\n"
          ],
          "name": "stdout"
        },
        {
          "output_type": "stream",
          "text": [
            "/usr/local/lib/python3.6/dist-packages/PIL/Image.py:932: UserWarning: Palette images with Transparency expressed in bytes should be converted to RGBA images\n",
            "  \"Palette images with Transparency expressed in bytes should be \"\n"
          ],
          "name": "stderr"
        },
        {
          "output_type": "stream",
          "text": [
            "[93/100][50/65]\tLoss_D: 0.0000\tLoss_G: 43.3323\tD(x): 1.0000\tD(G(z)): 0.0000 / 0.0000\n",
            "epoch: 94\n"
          ],
          "name": "stdout"
        },
        {
          "output_type": "stream",
          "text": [
            "/usr/local/lib/python3.6/dist-packages/PIL/Image.py:932: UserWarning: Palette images with Transparency expressed in bytes should be converted to RGBA images\n",
            "  \"Palette images with Transparency expressed in bytes should be \"\n"
          ],
          "name": "stderr"
        },
        {
          "output_type": "stream",
          "text": [
            "[94/100][0/65]\tLoss_D: 0.0000\tLoss_G: 43.1859\tD(x): 1.0000\tD(G(z)): 0.0000 / 0.0000\n"
          ],
          "name": "stdout"
        },
        {
          "output_type": "stream",
          "text": [
            "/usr/local/lib/python3.6/dist-packages/PIL/Image.py:932: UserWarning: Palette images with Transparency expressed in bytes should be converted to RGBA images\n",
            "  \"Palette images with Transparency expressed in bytes should be \"\n"
          ],
          "name": "stderr"
        },
        {
          "output_type": "stream",
          "text": [
            "[94/100][50/65]\tLoss_D: 0.0000\tLoss_G: 43.2124\tD(x): 1.0000\tD(G(z)): 0.0000 / 0.0000\n",
            "epoch: 95\n"
          ],
          "name": "stdout"
        },
        {
          "output_type": "stream",
          "text": [
            "/usr/local/lib/python3.6/dist-packages/PIL/Image.py:932: UserWarning: Palette images with Transparency expressed in bytes should be converted to RGBA images\n",
            "  \"Palette images with Transparency expressed in bytes should be \"\n",
            "/usr/local/lib/python3.6/dist-packages/PIL/Image.py:932: UserWarning: Palette images with Transparency expressed in bytes should be converted to RGBA images\n",
            "  \"Palette images with Transparency expressed in bytes should be \"\n"
          ],
          "name": "stderr"
        },
        {
          "output_type": "stream",
          "text": [
            "[95/100][0/65]\tLoss_D: 0.0001\tLoss_G: 43.3517\tD(x): 0.9999\tD(G(z)): 0.0000 / 0.0000\n",
            "[95/100][50/65]\tLoss_D: 0.0000\tLoss_G: 43.3278\tD(x): 1.0000\tD(G(z)): 0.0000 / 0.0000\n",
            "epoch: 96\n"
          ],
          "name": "stdout"
        },
        {
          "output_type": "stream",
          "text": [
            "/usr/local/lib/python3.6/dist-packages/PIL/Image.py:932: UserWarning: Palette images with Transparency expressed in bytes should be converted to RGBA images\n",
            "  \"Palette images with Transparency expressed in bytes should be \"\n"
          ],
          "name": "stderr"
        },
        {
          "output_type": "stream",
          "text": [
            "[96/100][0/65]\tLoss_D: 0.0003\tLoss_G: 43.2066\tD(x): 0.9997\tD(G(z)): 0.0000 / 0.0000\n"
          ],
          "name": "stdout"
        },
        {
          "output_type": "stream",
          "text": [
            "/usr/local/lib/python3.6/dist-packages/PIL/Image.py:932: UserWarning: Palette images with Transparency expressed in bytes should be converted to RGBA images\n",
            "  \"Palette images with Transparency expressed in bytes should be \"\n"
          ],
          "name": "stderr"
        },
        {
          "output_type": "stream",
          "text": [
            "[96/100][50/65]\tLoss_D: 0.0000\tLoss_G: 43.3633\tD(x): 1.0000\tD(G(z)): 0.0000 / 0.0000\n",
            "epoch: 97\n"
          ],
          "name": "stdout"
        },
        {
          "output_type": "stream",
          "text": [
            "/usr/local/lib/python3.6/dist-packages/PIL/Image.py:932: UserWarning: Palette images with Transparency expressed in bytes should be converted to RGBA images\n",
            "  \"Palette images with Transparency expressed in bytes should be \"\n"
          ],
          "name": "stderr"
        },
        {
          "output_type": "stream",
          "text": [
            "[97/100][0/65]\tLoss_D: 0.0000\tLoss_G: 43.2166\tD(x): 1.0000\tD(G(z)): 0.0000 / 0.0000\n"
          ],
          "name": "stdout"
        },
        {
          "output_type": "stream",
          "text": [
            "/usr/local/lib/python3.6/dist-packages/PIL/Image.py:932: UserWarning: Palette images with Transparency expressed in bytes should be converted to RGBA images\n",
            "  \"Palette images with Transparency expressed in bytes should be \"\n"
          ],
          "name": "stderr"
        },
        {
          "output_type": "stream",
          "text": [
            "[97/100][50/65]\tLoss_D: 0.0000\tLoss_G: 43.2715\tD(x): 1.0000\tD(G(z)): 0.0000 / 0.0000\n",
            "epoch: 98\n"
          ],
          "name": "stdout"
        },
        {
          "output_type": "stream",
          "text": [
            "/usr/local/lib/python3.6/dist-packages/PIL/Image.py:932: UserWarning: Palette images with Transparency expressed in bytes should be converted to RGBA images\n",
            "  \"Palette images with Transparency expressed in bytes should be \"\n",
            "/usr/local/lib/python3.6/dist-packages/PIL/Image.py:932: UserWarning: Palette images with Transparency expressed in bytes should be converted to RGBA images\n",
            "  \"Palette images with Transparency expressed in bytes should be \"\n"
          ],
          "name": "stderr"
        },
        {
          "output_type": "stream",
          "text": [
            "[98/100][0/65]\tLoss_D: 0.0000\tLoss_G: 43.1539\tD(x): 1.0000\tD(G(z)): 0.0000 / 0.0000\n",
            "[98/100][50/65]\tLoss_D: 0.0000\tLoss_G: 43.2335\tD(x): 1.0000\tD(G(z)): 0.0000 / 0.0000\n",
            "epoch: 99\n"
          ],
          "name": "stdout"
        },
        {
          "output_type": "stream",
          "text": [
            "/usr/local/lib/python3.6/dist-packages/PIL/Image.py:932: UserWarning: Palette images with Transparency expressed in bytes should be converted to RGBA images\n",
            "  \"Palette images with Transparency expressed in bytes should be \"\n",
            "/usr/local/lib/python3.6/dist-packages/PIL/Image.py:932: UserWarning: Palette images with Transparency expressed in bytes should be converted to RGBA images\n",
            "  \"Palette images with Transparency expressed in bytes should be \"\n"
          ],
          "name": "stderr"
        },
        {
          "output_type": "stream",
          "text": [
            "[99/100][0/65]\tLoss_D: 0.0000\tLoss_G: 43.2115\tD(x): 1.0000\tD(G(z)): 0.0000 / 0.0000\n",
            "[99/100][50/65]\tLoss_D: 0.0000\tLoss_G: 43.2968\tD(x): 1.0000\tD(G(z)): 0.0000 / 0.0000\n"
          ],
          "name": "stdout"
        },
        {
          "output_type": "display_data",
          "data": {
            "image/png": "[encoded data removed]",
            "text/plain": [
              "<Figure size 720x360 with 1 Axes>"
            ]
          },
          "metadata": {
            "tags": [],
            "needs_background": "light"
          }
        }
      ]
    },
    {
      "cell_type": "code",
      "metadata": {
        "id": "tPNBK2MpKvmN",
        "colab_type": "code",
        "colab": {
          "base_uri": "https://localhost:8080/",
          "height": 567
        },
        "outputId": "db5e4218-4632-4090-d9c1-d90a0113a937"
      },
      "source": [
        "!zip -r /content/artifacts.zip /content/artifacts/"
      ],
      "execution_count": null,
      "outputs": [
        {
          "output_type": "stream",
          "text": [
            "updating: content/artifacts/ (stored 0%)\n",
            "  adding: content/artifacts/55.png (deflated 0%)\n",
            "  adding: content/artifacts/128_CarGan_epoch53.tar (deflated 9%)\n",
            "  adding: content/artifacts/128_CarGan_epoch82.tar (deflated 9%)\n",
            "  adding: content/artifacts/54.png (deflated 0%)\n",
            "  adding: content/artifacts/74.png (deflated 0%)\n",
            "  adding: content/artifacts/128_CarGan_epoch25.tar (deflated 9%)\n",
            "  adding: content/artifacts/128_CarGan_epoch28.tar (deflated 9%)\n",
            "  adding: content/artifacts/128_CarGan_epoch79.tar (deflated 9%)\n",
            "  adding: content/artifacts/128_CarGan_epoch68.tar (deflated 9%)\n",
            "  adding: content/artifacts/81.png (deflated 0%)\n",
            "  adding: content/artifacts/128_CarGan_epoch18.tar (deflated 9%)\n",
            "  adding: content/artifacts/128_CarGan_epoch55.tar (deflated 9%)\n",
            "  adding: content/artifacts/128_CarGan_epoch95.tar (deflated 9%)\n",
            "  adding: content/artifacts/128_CarGan_epoch37.tar (deflated 9%)\n",
            "  adding: content/artifacts/128_CarGan_epoch32.tar (deflated 9%)\n",
            "  adding: content/artifacts/29.png (deflated 0%)\n",
            "  adding: content/artifacts/128_CarGan_epoch21.tar (deflated 9%)\n",
            "  adding: content/artifacts/22.png (deflated 0%)\n",
            "  adding: content/artifacts/35.png (deflated 0%)\n",
            "  adding: content/artifacts/11.png (deflated 0%)\n",
            "  adding: content/artifacts/15.png (deflated 0%)\n",
            "  adding: content/artifacts/128_CarGan_epoch44.tar (deflated 9%)\n",
            "  adding: content/artifacts/7.png (deflated 0%)\n",
            "  adding: content/artifacts/70.png (deflated 0%)\n",
            "  adding: content/artifacts/65.png (deflated 0%)\n",
            "  adding: content/artifacts/14.png (deflated 0%)\n",
            "  adding: content/artifacts/128_CarGan_epoch14.tar (deflated 9%)\n",
            "  adding: content/artifacts/44.png (deflated 0%)\n",
            "  adding: content/artifacts/50.png (deflated 0%)\n",
            "  adding: content/artifacts/128_CarGan_epoch65.tar"
          ],
          "name": "stdout"
        }
      ]
    }
  ]
}